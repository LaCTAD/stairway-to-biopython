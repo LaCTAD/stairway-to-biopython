{
 "cells": [
  {
   "cell_type": "markdown",
   "metadata": {},
   "source": [
    "# Introdução\n",
    "\n",
    "Bem vindos ao Stairway to Python!\n",
    "\n",
    "Nesse curso, apresentarei os fundamentos da linguagem Python, sua sintaxe, as partes principais de sua biblioteca padrão, suas mais famosas bibliotecas externas, seu ecossistema e comunidade. Ao completá-lo, você deverá ser capaz de executar tarefas básicas em Python, saber reconhecer problemas comuns e - principalmente - sentir-se motivado a saber mais sobre essa linguagem tão interessante.\n",
    "\n",
    "Não tenho intenção de escrever um guia completo da linguagem. Python é uma linguagem multiparadigma e de múltiplos propósitos. Seus casos de uso e as possíveis arquiteturas que seus códigos podem seguir são extremamente vastos. Meu objetivo é dar para vocês um conhecimento de base, uma motivação para estudar Python e indicar os diversos caminhos possíveis da lingugagem.\n",
    "\n",
    "\n",
    "## Este curso é pra mim?\n",
    "\n",
    "Fiz esse curso pensando em pessoas que já saibam alguma linguagem de programação e queiram aprender Python. Termos como \"variável\", \"condicional\", \"loop\", \"função\" não devem ser completamente novos para você.\n",
    "\n",
    "Em resumo, se você:\n",
    "\n",
    "* Não tem nenhum conhecimento prévio em programação\n",
    "* Procura por um material de nível avançado de Python\n",
    "* Busca por conhecimentos de uma área específica - análise de dados, machine learning, IoT\n",
    "* Precisa de um curso que ensine os fundamentos de computação, lógica e programação\n",
    "\n",
    "Você provavelmente não irá aproveitar muito desse material. Em especial, caso você queira aprender programação do zero, recomendo o ótimo [Python Para Zumbis](https://www.pycursos.com/python-para-zumbis/) do excelente Fernando Masanori. \n",
    "\n",
    "\n",
    "## Por que Python?\n",
    "\n",
    "Antes de decidirmos usar qualquer tecnologia, devemos ter em mente suas vantagens e desvantagens. Dessa forma, podemos tomar decisões mais precisas quanto ao caminho que seguiremos em nosso trabalho. Os motivos principais que justificam o uso de Python incluem:\n",
    "\n",
    "### Sintaxe\n",
    "\n",
    "Python possui uma sintaxe bem mais leve e clara do que muitas linguagens de programação. Por vezes, pessoas que não possuem conhecimento específico de Python conseguem facilmente olhar para o código e determinar o que está acontecendo. Isso é uma grande vantagem pois torna o trabalho de escrita e de revisão de código mais fácil.\n",
    "\n",
    "Uma linguagem que torna o código mais legível - sem depender tanto do bom senso do programador para isso - aumenta a produtividade de seus usuários.\n",
    "\n",
    "### Biblioteca Padrão\n",
    "\n",
    "Usando Python puro - sem instalar nenhuma biblioteca adicional - você terá [um ecossistema muito rico que te oferece muitas ferramentas prontas](https://docs.python.org/3/library/). Diversas operações relacionadas à manipulação de strings, estruturas de dados complexas, operação com redes, operação com diversos protocolos de comunicação - como o HTTP - são \"out-of-the-box\" em Python e você pode contar com a presença delas em qualquer ambiente pronto para rodar Python\n",
    "\n",
    "### Bibliotecas Disponíveis\n",
    "\n",
    "Além da rica biblioteca padrão, Python é utilizado por diversos programadores ao redor do mundo. Em 2018, ela foi eleita pelo segundo ano consecutivo a [linguagem mais desejada](https://insights.stackoverflow.com/survey/2018/#most-loved-dreaded-and-wanted) pelos programadores que responderam à enquete do StackOverflow - o que significa que ela é a linguagem que as pessoas mais desejam aprender e ela é a 7ª mais usada.\n",
    "\n",
    "Esses colegas desenvolvem bibliotecas adicionais que podem ser facilmente encontradas e instaladas através do [Python Package Index](https://pypi.org/). Vale a pena explorar e conhecer o PyPI, lá você vai encontrar diversas bibliotecas capazes de\n",
    "\n",
    "* [Interagir com o Facebook](https://pypi.org/project/facebook2/)\n",
    "* [Realizar operações matemáticas complexas](https://pypi.org/project/numpy/)\n",
    "* [Fazer scraping de páginas da web](https://pypi.org/project/Scrapy/)\n",
    "* [Realizar chamadas HTTP de forma mais fácil](https://pypi.org/project/requests/)\n",
    "* [Gerar gráficos](https://pypi.org/project/matplotlib/)\n",
    "* [Processar linguagem natural](https://pypi.org/project/nltk/)\n",
    "\n",
    "E muito mais\n",
    "\n",
    "### Multiparadigmas\n",
    "\n",
    "Não importa se você prefere programar de forma procedural, imperativa ou orientada à objetos, Python comporta todas! É possível também utilizar muitas das estruturas comuns da [programação funcional](https://docs.python.org/3/howto/functional.html).\n",
    "\n",
    "\n",
    "### Extensiva\n",
    "\n",
    "Python permite que você interaja com bibliotecas em feitas em [C e C++](https://docs.python.org/3/extending/extending.html). Existem também ferramentas prontas para você interagir com outras linguagens como [Java](https://www.py4j.org/index.html) e com o ambiente [.NET](http://ironpython.net/)\n",
    "\n",
    "## Por que NÃO Python?\n",
    "\n",
    "## Python 2 ou 3?\n",
    "\n",
    "## Conhecendo o ambiente\n",
    "\n",
    "Você está dentro de um [Notebook Jupyter](http://jupyter.org/). Ele vai permitir que vocês executem códigos de exemplo de maneira bastante prática. Além de permitir que eu crie uma visualização bonita do material sem ter que me preocupar muito com demais tecnologias.\n",
    "\n",
    "Quando você encontrar um box como o que aparece aqui em baixo, basta apertar CTRL+Enter, SHIFT+Enter, ou \"Run\" ali no menu para executar o código contido. Teste na célula a seguir para obter o resultado da multiplicação"
   ]
  },
  {
   "cell_type": "code",
   "execution_count": null,
   "metadata": {},
   "outputs": [],
   "source": [
    "10 * 40"
   ]
  },
  {
   "cell_type": "markdown",
   "metadata": {},
   "source": [
    "Agora altere o código na linha acima para que multiplique 1000 por 42 e execute novamente.\n",
    "\n",
    "Em Python, podemos imprimir diversos elementos no terminal com a função `print()`. Também temos a função `repr()`, que veremos mais adiante.\n",
    "\n",
    "Os Notebooks Jupyter são uma das diversas ferramentas existentes no ecossistema do Python. Se você pretende usar Python como parte de uma pesquisa acadêmica ou para analisar dados com qualquer outra finalidade, eu recomendo **fortemente** que você leia mais sobre o Jupyter quando tiver oportunidade!\n",
    "\n",
    "[Interactive notebooks: Sharing the code](https://www.nature.com/news/interactive-notebooks-sharing-the-code-1.16261)\n",
    "\n",
    "[Por que usar o Jupyter Notebook?](http://suzanamota.com/2018/04/13/por-que-usar-jupyter-notebook/)\n",
    "\n",
    "[Python e o Jupyter/IPython Notebook](http://2017.fgsl.net/up/2/o/00023_12_Seminario-_Introducao_ao_Jupyter.pdf)\n"
   ]
  },
  {
   "cell_type": "code",
   "execution_count": null,
   "metadata": {},
   "outputs": [],
   "source": []
  }
 ],
 "metadata": {
  "celltoolbar": "Raw Cell Format",
  "kernelspec": {
   "display_name": "Python 3",
   "language": "python",
   "name": "python3"
  },
  "language_info": {
   "codemirror_mode": {
    "name": "ipython",
    "version": 3
   },
   "file_extension": ".py",
   "mimetype": "text/x-python",
   "name": "python",
   "nbconvert_exporter": "python",
   "pygments_lexer": "ipython3",
   "version": "3.6.5"
  }
 },
 "nbformat": 4,
 "nbformat_minor": 2
}
