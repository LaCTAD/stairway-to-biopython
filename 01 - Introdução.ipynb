{
 "cells": [
  {
   "cell_type": "markdown",
   "metadata": {},
   "source": [
    "# Introdução\n",
    "\n",
    "Bem vindos ao Stairway to Python!\n",
    "\n",
    "Nesse curso, apresentarei os fundamentos da linguagem Python, sua sintaxe, as partes principais de sua biblioteca padrão, suas mais famosas bibliotecas externas, seu ecossistema e comunidade. Ao completá-lo, você deverá ser capaz de executar tarefas básicas em Python, saber reconhecer problemas comuns e - principalmente - sentir-se motivado a saber mais sobre essa linguagem tão interessante.\n",
    "\n",
    "Não tenho intenção de escrever um guia completo da linguagem. Python é uma linguagem multiparadigma e de múltiplos propósitos. Seus casos de uso e as possíveis arquiteturas que seus códigos podem seguir são extremamente vastos. Meu objetivo é dar para vocês um conhecimento de base, uma motivação para estudar Python e indicar os diversos caminhos possíveis da lingugagem.\n",
    "\n",
    "\n",
    "## Este curso é pra mim?\n",
    "\n",
    "Fiz esse curso pensando em pessoas que já saibam alguma linguagem de programação e queiram aprender Python. Termos como \"variável\", \"condicional\", \"loop\", \"função\" não devem ser completamente novos para você.\n",
    "\n",
    "Em resumo, se você:\n",
    "\n",
    "* Não tem nenhum conhecimento prévio em programação\n",
    "* Procura por um material de nível avançado de Python\n",
    "* Busca por conhecimentos de uma área específica - análise de dados, machine learning, IoT\n",
    "* Precisa de um curso que ensine os fundamentos de computação, lógica e programação\n",
    "\n",
    "Você provavelmente não irá aproveitar muito desse material. Em especial, caso você queira aprender programação do zero, recomendo o ótimo [Python Para Zumbis](https://www.pycursos.com/python-para-zumbis/) do excelente Fernando Masanori. "
   ]
  },
  {
   "cell_type": "markdown",
   "metadata": {},
   "source": [
    "## Conhecendo o ambiente\n",
    "\n",
    "Você está dentro de um [Notebook Jupyter](http://jupyter.org/). Ele vai permitir que vocês executem códigos de exemplo de maneira bastante prática. Além de permitir que eu crie uma visualização bonita do material sem ter que me preocupar muito com demais tecnologias.\n",
    "\n",
    "Quando você encontrar um box como o que aparece aqui em baixo, basta apertar CTRL+Enter, SHIFT+Enter, ou \"Run\" ali no menu para executar o código contido. Teste na célula a seguir para obter o resultado da multiplicação"
   ]
  },
  {
   "cell_type": "code",
   "execution_count": null,
   "metadata": {},
   "outputs": [],
   "source": [
    "10 * 40"
   ]
  },
  {
   "cell_type": "markdown",
   "metadata": {},
   "source": [
    "Agora altere o código na linha acima para que multiplique 1000 por 42 e execute novamente.\n",
    "\n",
    "Os Notebooks Jupyter são uma das diversas ferramentas existentes no ecossistema do Python. Se você pretende usar Python como parte de uma pesquisa acadêmica, eu recomendo **fortemente** que você leia mais sobre ele quando tiver oportunidade!"
   ]
  },
  {
   "cell_type": "code",
   "execution_count": null,
   "metadata": {},
   "outputs": [],
   "source": []
  }
 ],
 "metadata": {
  "kernelspec": {
   "display_name": "Python 3",
   "language": "python",
   "name": "python3"
  },
  "language_info": {
   "codemirror_mode": {
    "name": "ipython",
    "version": 3
   },
   "file_extension": ".py",
   "mimetype": "text/x-python",
   "name": "python",
   "nbconvert_exporter": "python",
   "pygments_lexer": "ipython3",
   "version": "3.6.5"
  }
 },
 "nbformat": 4,
 "nbformat_minor": 2
}
