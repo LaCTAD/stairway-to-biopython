{
 "cells": [
  {
   "cell_type": "markdown",
   "metadata": {},
   "source": [
    "# Classes e Objetos\n",
    "\n",
    "Em Python, é possível implementar o conceito de orientação à objetos de forma leve. Vamos começar com um exemplo simples de classe:"
   ]
  },
  {
   "cell_type": "code",
   "execution_count": 2,
   "metadata": {},
   "outputs": [
    {
     "name": "stdout",
     "output_type": "stream",
     "text": [
      "Olá, felipe\n"
     ]
    }
   ],
   "source": [
    "class Pessoa():\n",
    "    def __init__(self, nome):\n",
    "        self.nome = nome\n",
    "        \n",
    "    def cumprimentar(self):\n",
    "        print(\"Olá, {}\".format(self.nome))\n",
    "        \n",
    "felipe = Pessoa('felipe')\n",
    "felipe.cumprimentar()"
   ]
  },
  {
   "cell_type": "markdown",
   "metadata": {},
   "source": [
    "É importante notar alguns pontos dessa sintaxe.\n",
    "\n",
    "`class Pessoa()`\n",
    "\n",
    "A primeira linha define que implementaremos uma classe, damos o seu nome e, entre parênteses, podemos definir as classes que serão herdadas. Como não herdamos nenhuma, esses parênteses poderiam ser omitidos.\n",
    "\n",
    "`def __init__(self, nome)`\n",
    "\n",
    "`__init__` — com dois _underlines_ antes e depois do nome — é a sintaxe que usamos para definir um construtor em Python. O primeiro argumento de qualquer método de instância é o `self`. Esse argumento vai conter uma referência à instância em questão.\n",
    "\n",
    "`self.nome` faz com que o atributo \"nome\" da instância seja configurado. No corpo do construtor podemos fazer todo tipo de inicializações que uma instância pode precisar.\n",
    "\n",
    "`def cumprimentar(self)` define um método de instância. O argumento `self` é necessário em todos os métodos desse tipo e ele também será preenchido automaticamente pelo interpretador com uma referência ao objeto atual.\n",
    "\n",
    "`felipe = Pessoa('felipe')` cria uma nova instância da classe `Pessoa`, passando o atributo `felipe` como nome e a armazena na variável `felipe`.\n",
    "\n",
    "`felipe.cumprimentar()` executa um método de instância"
   ]
  },
  {
   "cell_type": "markdown",
   "metadata": {},
   "source": [
    "## Herança\n",
    "\n",
    "Python permite que heranças sejam feitas direto na definição da classe:"
   ]
  },
  {
   "cell_type": "code",
   "execution_count": 3,
   "metadata": {},
   "outputs": [],
   "source": [
    "class Usuário(Pessoa):\n",
    "    \n",
    "    def __init__(self, nome, email):\n",
    "        self.nome = nome\n",
    "        self.email = email\n",
    "        \n",
    "    def mandar_email(self):\n",
    "        print(\"Mandando email para {} no email {}\".format(self.nome, self.email))"
   ]
  },
  {
   "cell_type": "code",
   "execution_count": 4,
   "metadata": {},
   "outputs": [
    {
     "name": "stdout",
     "output_type": "stream",
     "text": [
      "Olá, felipe\n",
      "Mandando email para felipe no email felipe@felipevr.com\n"
     ]
    }
   ],
   "source": [
    "u = Usuário(\"felipe\", \"felipe@felipevr.com\")\n",
    "u.cumprimentar()\n",
    "u.mandar_email()"
   ]
  },
  {
   "cell_type": "markdown",
   "metadata": {},
   "source": [
    "Observe que na linha 2 utilizamos do método `cumprimentar` partindo de uma instância de Usuário. No entanto, esse método não está definido no Usuário em si mas sim na Pessoa, classe mãe da classe Usuário"
   ]
  },
  {
   "cell_type": "markdown",
   "metadata": {},
   "source": [
    "# Métodos de Classe\n",
    "\n",
    "As vezes precisamos declarar métodos que não variam de acordo com uma instância em especial mas que são compartilhados por todas elas de maneira igual. Em Python isso é feito usando métodos estáticos:"
   ]
  },
  {
   "cell_type": "code",
   "execution_count": 6,
   "metadata": {},
   "outputs": [],
   "source": [
    "class Aritmética:\n",
    "    @staticmethod\n",
    "    def soma(a, b):\n",
    "        return a + b"
   ]
  },
  {
   "cell_type": "code",
   "execution_count": 7,
   "metadata": {},
   "outputs": [
    {
     "data": {
      "text/plain": [
       "30"
      ]
     },
     "execution_count": 7,
     "metadata": {},
     "output_type": "execute_result"
    }
   ],
   "source": [
    "Aritmética.soma(10, 20)"
   ]
  },
  {
   "cell_type": "markdown",
   "metadata": {},
   "source": [
    "Observe que não precisamos instanciar um objeto da classe e que na definição do método não existe o argumento `self`. As duas coisas acontecem porque a definição de soma é ligada à classe e não depende das suas instância. Poderíamos instanciar, se quiséssemos:"
   ]
  },
  {
   "cell_type": "code",
   "execution_count": 8,
   "metadata": {},
   "outputs": [
    {
     "data": {
      "text/plain": [
       "3"
      ]
     },
     "execution_count": 8,
     "metadata": {},
     "output_type": "execute_result"
    }
   ],
   "source": [
    "a = Aritmética()\n",
    "a.soma(1, 2)"
   ]
  },
  {
   "cell_type": "markdown",
   "metadata": {},
   "source": [
    "## Atributos protegidos e privados\n",
    "\n",
    "Python não possui muito rigor no que diz respeito à atributos desse tipo. É possível criar atributos que são ocultos a primeira vista, mas, se o programador realmente quiser, ele consegue acessá-los:"
   ]
  },
  {
   "cell_type": "code",
   "execution_count": 13,
   "metadata": {},
   "outputs": [],
   "source": [
    "class Cão():\n",
    "    def __método_privado(self):\n",
    "        print(\"Métodos 'privados' começam com 2 underlines!\")"
   ]
  },
  {
   "cell_type": "code",
   "execution_count": 14,
   "metadata": {},
   "outputs": [
    {
     "ename": "AttributeError",
     "evalue": "'Cão' object has no attribute '__método_privado'",
     "output_type": "error",
     "traceback": [
      "\u001b[1;31m---------------------------------------------------------------------------\u001b[0m",
      "\u001b[1;31mAttributeError\u001b[0m                            Traceback (most recent call last)",
      "\u001b[1;32m<ipython-input-14-b3595482eaa9>\u001b[0m in \u001b[0;36m<module>\u001b[1;34m()\u001b[0m\n\u001b[0;32m      1\u001b[0m \u001b[0mc\u001b[0m \u001b[1;33m=\u001b[0m \u001b[0mCão\u001b[0m\u001b[1;33m(\u001b[0m\u001b[1;33m)\u001b[0m\u001b[1;33m\u001b[0m\u001b[0m\n\u001b[1;32m----> 2\u001b[1;33m \u001b[0mc\u001b[0m\u001b[1;33m.\u001b[0m\u001b[0m__método_privado\u001b[0m\u001b[1;33m(\u001b[0m\u001b[1;33m)\u001b[0m\u001b[1;33m\u001b[0m\u001b[0m\n\u001b[0m",
      "\u001b[1;31mAttributeError\u001b[0m: 'Cão' object has no attribute '__método_privado'"
     ]
    }
   ],
   "source": [
    "c = Cão()\n",
    "c.__método_privado()"
   ]
  },
  {
   "cell_type": "markdown",
   "metadata": {},
   "source": [
    "Tivemos um erro! O atributo parece protegido, porém:"
   ]
  },
  {
   "cell_type": "code",
   "execution_count": 20,
   "metadata": {},
   "outputs": [
    {
     "name": "stdout",
     "output_type": "stream",
     "text": [
      "Métodos 'privados' começam com 2 underlines!\n"
     ]
    }
   ],
   "source": [
    "c._Cão__método_privado()"
   ]
  },
  {
   "cell_type": "markdown",
   "metadata": {},
   "source": [
    "O ocultamento extremo de atributos — assim como muita coisa na linguagem — acontece por convenção e não por imposição. Ao marcá-los com dois underlines, você manda uma mensagem para outros colegas que possam utilizar sua classe: \"Eu não recomendo que você mexa aqui. No design da minha classe, eu não considerei as consequências para caso esse atributo seja acessado/modificado externamente\"\n",
    "\n",
    "Porém, se o outro programador realmente souber o que está fazendo e julgar necessária a manipulação daquele atributo, Python irá permitir. É bom lembrar que a definição de métodos como sendo privados não tem relação com segurança das informações armazenadas. Marcar atributos como sendo protegidos ou privados é simplesmente uma forma que temos de marcar o design da nossa classe e orientar outros programadores sobre como pensamos originalmente seu uso."
   ]
  },
  {
   "cell_type": "code",
   "execution_count": null,
   "metadata": {},
   "outputs": [],
   "source": []
  }
 ],
 "metadata": {
  "kernelspec": {
   "display_name": "Python 3",
   "language": "python",
   "name": "python3"
  },
  "language_info": {
   "codemirror_mode": {
    "name": "ipython",
    "version": 3
   },
   "file_extension": ".py",
   "mimetype": "text/x-python",
   "name": "python",
   "nbconvert_exporter": "python",
   "pygments_lexer": "ipython3",
   "version": "3.6.5"
  }
 },
 "nbformat": 4,
 "nbformat_minor": 2
}
