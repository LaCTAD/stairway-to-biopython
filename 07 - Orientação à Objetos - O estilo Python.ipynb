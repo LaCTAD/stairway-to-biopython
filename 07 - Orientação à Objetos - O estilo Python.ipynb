{
 "cells": [
  {
   "cell_type": "markdown",
   "metadata": {},
   "source": [
    "# Classes e Objetos\n",
    "\n",
    "Em Python, é possível implementar o conceito de orientação à objetos de forma leve. Vamos começar com um exemplo simples de classe:"
   ]
  },
  {
   "cell_type": "code",
   "execution_count": 1,
   "metadata": {},
   "outputs": [
    {
     "name": "stdout",
     "output_type": "stream",
     "text": [
      "Olá, felipe\n"
     ]
    }
   ],
   "source": [
    "class Pessoa():\n",
    "    def __init__(self, nome):\n",
    "        self.nome = nome\n",
    "        \n",
    "    def cumprimentar(self):\n",
    "        print(\"Olá, {}\".format(self.nome))\n",
    "        \n",
    "felipe = Pessoa('felipe')\n",
    "felipe.cumprimentar()"
   ]
  },
  {
   "cell_type": "markdown",
   "metadata": {},
   "source": [
    "É importante notar alguns pontos dessa sintaxe.\n",
    "\n",
    "`class Pessoa()`\n",
    "\n",
    "A primeira linha define que implementaremos uma classe, damos o seu nome e, entre parênteses, podemos definir as classes que serão herdadas. Como não herdamos nenhuma, esses parênteses poderiam ser omitidos.\n",
    "\n",
    "`def __init__(self, nome)`\n",
    "\n",
    "`__init__` — com dois _underlines_ antes e depois do nome — é a sintaxe que usamos para definir um construtor em Python. O primeiro argumento de qualquer método de instância é o `self`. Esse argumento vai conter uma referência à instância em questão."
   ]
  },
  {
   "cell_type": "code",
   "execution_count": null,
   "metadata": {},
   "outputs": [],
   "source": []
  }
 ],
 "metadata": {
  "kernelspec": {
   "display_name": "Python 3",
   "language": "python",
   "name": "python3"
  },
  "language_info": {
   "codemirror_mode": {
    "name": "ipython",
    "version": 3
   },
   "file_extension": ".py",
   "mimetype": "text/x-python",
   "name": "python",
   "nbconvert_exporter": "python",
   "pygments_lexer": "ipython3",
   "version": "3.6.5"
  }
 },
 "nbformat": 4,
 "nbformat_minor": 2
}
