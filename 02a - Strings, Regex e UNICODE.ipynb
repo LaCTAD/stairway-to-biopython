{
 "cells": [
  {
   "cell_type": "markdown",
   "metadata": {},
   "source": [
    "# Strings\n",
    "\n",
    "Um dos tipos clássicos presente em quase todas as linguagens de programação! Normalmente strings \"simplesmente funcionam\" e não prestamos muita atenção nos detalhes de suas implementações. Nesse caso, Python 2 e Python 3 tem diferenças importantes e caso você precise trabalhar com Python 2, é importante considerá-las!\n",
    "\n",
    "A definição usual de \"string\" é bem simples — uma string é um conjunto de caracteres. No entanto, a definição e os detalhes de implementação do conceito de _caractere_  varia. Se formos pensar do ponto de vista de nós, humanos, um caractere representa um símbolo. Esse símbolo pode ser uma letra, um número, um emoji, etc. Por outro lado, para os computadores, um caractere — assim como absolutamente tudo — é apenas uma sequência de bits.\n",
    "\n",
    "Python 3 trabalha com uma definição de caractere mais pensada para os seres humanos lidando com o código. Porém, nem Python e nem ninguém consegue fazer um computador entender algo além de uma sequência de bits! Portanto, é necessária a existência de entidades que consigam fazer humanos e máquinas se entenderem. Nesse caso vai entrar o padrão Unicode e suas diversas codificações como veremos mais adiante.\n",
    "\n",
    "Esse assunto é bastante amplo e você pode apronfundar-se nele o quanto quiser. Nesse texto vou me limitar a apresentar os aspectos gerais de strings em Python e alguns detalhes da forma como as codificações funcionam. Caso você tenha interesse, uma ótima referência para o assunto é o capítulo 4 do livro [Python Fluente](https://www.amazon.com.br/gp/product/857522462X/ref=as_li_tl?ie=UTF8&camp=1789&creative=9325&creativeASIN=857522462X&linkCode=as2&tag=novatec03-20) — um dos melhores livros que já li sobre Python, escrito pelo genial [Luciano Ramalho](https://twitter.com/ramalhoorg), membro antigo da comunidade Python no Brasil. Recomendo esse livro para programadores Python de nível intermediário ou avançado. Vale cada minuto de leitura das suas quase 800 páginas."
   ]
  },
  {
   "cell_type": "code",
   "execution_count": null,
   "metadata": {},
   "outputs": [],
   "source": []
  }
 ],
 "metadata": {
  "kernelspec": {
   "display_name": "Python 3",
   "language": "python",
   "name": "python3"
  },
  "language_info": {
   "codemirror_mode": {
    "name": "ipython",
    "version": 3
   },
   "file_extension": ".py",
   "mimetype": "text/x-python",
   "name": "python",
   "nbconvert_exporter": "python",
   "pygments_lexer": "ipython3",
   "version": "3.6.5"
  }
 },
 "nbformat": 4,
 "nbformat_minor": 2
}
