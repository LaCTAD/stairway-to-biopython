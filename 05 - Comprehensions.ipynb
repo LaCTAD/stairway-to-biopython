{
 "cells": [
  {
   "cell_type": "markdown",
   "metadata": {},
   "source": [
    "# Comprehesions\n",
    "\n",
    "bComprehension é uma sintaxe altamente sucinta para definir diversos tipos de sequência e realizar operações entre elas. Por exemplo, suponha que você queira converter todas as strings de uma lista para maiúscula. É possível fazer algo do tipo:"
   ]
  },
  {
   "cell_type": "code",
   "execution_count": 1,
   "metadata": {},
   "outputs": [
    {
     "data": {
      "text/plain": [
       "['JOÃO', 'MARIA', 'JOSÉ']"
      ]
     },
     "execution_count": 1,
     "metadata": {},
     "output_type": "execute_result"
    }
   ],
   "source": [
    "nomes = [\"João\", \"Maria\", \"José\"]\n",
    "resultado = []\n",
    "\n",
    "for nome in nomes:\n",
    "    resultado.append(nome.upper())\n",
    "\n",
    "resultado"
   ]
  },
  {
   "cell_type": "markdown",
   "metadata": {},
   "source": [
    "Cinco linhas de código, um loop simples, nada mal! Mas podemos fazer algo do tipo:"
   ]
  },
  {
   "cell_type": "code",
   "execution_count": 2,
   "metadata": {},
   "outputs": [
    {
     "data": {
      "text/plain": [
       "['JOÃO', 'MARIA', 'JOSÉ']"
      ]
     },
     "execution_count": 2,
     "metadata": {},
     "output_type": "execute_result"
    }
   ],
   "source": [
    "resultado = [nome.upper() for nome in nomes]\n",
    "resultado"
   ]
  },
  {
   "cell_type": "markdown",
   "metadata": {},
   "source": [
    "Observe que o loop for foi **embutido na definição de lista!** As comprehensions permitem que a gente faça loops elaborados dentro de uma lista para calcular o resultado de _outra_ lista!"
   ]
  },
  {
   "cell_type": "markdown",
   "metadata": {},
   "source": [
    "**Exercício** Use comprehensions para calcular os números da lista a baixo elevados ao quadrado:"
   ]
  },
  {
   "cell_type": "code",
   "execution_count": 3,
   "metadata": {},
   "outputs": [],
   "source": [
    "n = [1, 2, 3, 4, 5, 6]\n",
    "quadrados = []"
   ]
  },
  {
   "cell_type": "markdown",
   "metadata": {},
   "source": [
    "## Comprehensions como filtros\n",
    "\n",
    "Também podemos embutir expressões `if` nas comprehensions:"
   ]
  },
  {
   "cell_type": "code",
   "execution_count": 4,
   "metadata": {},
   "outputs": [
    {
     "data": {
      "text/plain": [
       "[30, 40, 50, 60, 55, 32, 90, 100]"
      ]
     },
     "execution_count": 4,
     "metadata": {},
     "output_type": "execute_result"
    }
   ],
   "source": [
    "n = [10, 20, 30, 40, 50, 60, -10, 55, 32, -11, 15, 90, 100]\n",
    "maiores_que_vinte = [x for x in n if x > 20]\n",
    "maiores_que_vinte"
   ]
  },
  {
   "cell_type": "markdown",
   "metadata": {},
   "source": [
    "## Comprehensions como execução simples de instruções\n",
    "\n",
    "Suponha que você queira executar uma instrução sobre um conjunto grande de valores mas não se importa com o resultado dessa computação em si. Você pode montar uma list comprehension assim:"
   ]
  },
  {
   "cell_type": "code",
   "execution_count": 5,
   "metadata": {},
   "outputs": [
    {
     "name": "stdout",
     "output_type": "stream",
     "text": [
      "10\n",
      "20\n",
      "30\n",
      "40\n",
      "50\n",
      "60\n",
      "-10\n",
      "55\n",
      "32\n",
      "-11\n",
      "15\n",
      "90\n",
      "100\n"
     ]
    }
   ],
   "source": [
    "_ = [print(x) for x in n]"
   ]
  },
  {
   "cell_type": "markdown",
   "metadata": {},
   "source": [
    "_(O nome _ é comumente usado quando é necessário capturar um valor mas você não se importa com esse valor em si)_"
   ]
  },
  {
   "cell_type": "code",
   "execution_count": null,
   "metadata": {},
   "outputs": [],
   "source": []
  }
 ],
 "metadata": {
  "kernelspec": {
   "display_name": "Python 3",
   "language": "python",
   "name": "python3"
  },
  "language_info": {
   "codemirror_mode": {
    "name": "ipython",
    "version": 3
   },
   "file_extension": ".py",
   "mimetype": "text/x-python",
   "name": "python",
   "nbconvert_exporter": "python",
   "pygments_lexer": "ipython3",
   "version": "3.6.5"
  }
 },
 "nbformat": 4,
 "nbformat_minor": 2
}
