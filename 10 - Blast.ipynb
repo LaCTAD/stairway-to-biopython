{
 "cells": [
  {
   "cell_type": "markdown",
   "metadata": {},
   "source": [
    "## 5 Blast\n",
    "\n",
    "O Biopython também tem um pacote específico para fazer comparação de sequências e aqui vamos dar uma olhada no programa Blast. Para rodar Blast Web pela API do NCBI devemos importar o NCBIWWW do pacote Blast."
   ]
  },
  {
   "cell_type": "code",
   "execution_count": 1,
   "metadata": {},
   "outputs": [
    {
     "name": "stdout",
     "output_type": "stream",
     "text": [
      "Help on module Bio.Blast.NCBIWWW in Bio.Blast:\n",
      "\n",
      "NAME\n",
      "    Bio.Blast.NCBIWWW - Code to invoke the NCBI BLAST server over the internet.\n",
      "\n",
      "DESCRIPTION\n",
      "    This module provides code to work with the WWW version of BLAST\n",
      "    provided by the NCBI. https://blast.ncbi.nlm.nih.gov/\n",
      "\n",
      "FUNCTIONS\n",
      "    qblast(program, database, sequence, url_base='https://blast.ncbi.nlm.nih.gov/Blast.cgi', auto_format=None, composition_based_statistics=None, db_genetic_code=None, endpoints=None, entrez_query='(none)', expect=10.0, filter=None, gapcosts=None, genetic_code=None, hitlist_size=50, i_thresh=None, layout=None, lcase_mask=None, matrix_name=None, nucl_penalty=None, nucl_reward=None, other_advanced=None, perc_ident=None, phi_pattern=None, query_file=None, query_believe_defline=None, query_from=None, query_to=None, searchsp_eff=None, service=None, threshold=None, ungapped_alignment=None, word_size=None, alignments=500, alignment_view=None, descriptions=500, entrez_links_new_window=None, expect_low=None, expect_high=None, format_entrez_query=None, format_object=None, format_type='XML', ncbi_gi=None, results_file=None, show_overview=None, megablast=None, template_type=None, template_length=None)\n",
      "        BLAST search using NCBI's QBLAST server or a cloud service provider.\n",
      "        \n",
      "        Supports all parameters of the qblast API for Put and Get.\n",
      "        \n",
      "        Please note that BLAST on the cloud supports the NCBI-BLAST Common\n",
      "        URL API (http://ncbi.github.io/blast-cloud/dev/api.html). To\n",
      "        use this feature, please set url_base to\n",
      "        'http://host.my.cloud.service.provider.com/cgi-bin/blast.cgi' and\n",
      "        format_object='Alignment'. For more details, please see\n",
      "        https://blast.ncbi.nlm.nih.gov/Blast.cgi?PAGE_TYPE=BlastDocs&DOC_TYPE=CloudBlast\n",
      "        \n",
      "        Some useful parameters:\n",
      "        \n",
      "         - program        blastn, blastp, blastx, tblastn, or tblastx (lower case)\n",
      "         - database       Which database to search against (e.g. \"nr\").\n",
      "         - sequence       The sequence to search.\n",
      "         - ncbi_gi        TRUE/FALSE whether to give 'gi' identifier.\n",
      "         - descriptions   Number of descriptions to show.  Def 500.\n",
      "         - alignments     Number of alignments to show.  Def 500.\n",
      "         - expect         An expect value cutoff.  Def 10.0.\n",
      "         - matrix_name    Specify an alt. matrix (PAM30, PAM70, BLOSUM80, BLOSUM45).\n",
      "         - filter         \"none\" turns off filtering.  Default no filtering\n",
      "         - format_type    \"HTML\", \"Text\", \"ASN.1\", or \"XML\".  Def. \"XML\".\n",
      "         - entrez_query   Entrez query to limit Blast search\n",
      "         - hitlist_size   Number of hits to return. Default 50\n",
      "         - megablast      TRUE/FALSE whether to use MEga BLAST algorithm (blastn only)\n",
      "         - service        plain, psi, phi, rpsblast, megablast (lower case)\n",
      "        \n",
      "        This function does no checking of the validity of the parameters\n",
      "        and passes the values to the server as is.  More help is available at:\n",
      "        https://ncbi.github.io/blast-cloud/dev/api.html\n",
      "\n",
      "DATA\n",
      "    NCBI_BLAST_URL = 'https://blast.ncbi.nlm.nih.gov/Blast.cgi'\n",
      "    print_function = _Feature((2, 6, 0, 'alpha', 2), (3, 0, 0, 'alpha', 0)...\n",
      "\n",
      "FILE\n",
      "    /home/osvaldoreis/miniconda3/lib/python3.6/site-packages/Bio/Blast/NCBIWWW.py\n",
      "\n",
      "\n"
     ]
    }
   ],
   "source": [
    "from Bio.Blast import NCBIWWW\n",
    "help(NCBIWWW)"
   ]
  },
  {
   "cell_type": "markdown",
   "metadata": {},
   "source": [
    "No exemplo abaixo fazer rodar o blastn no banco de dados de nucleotídeos e vamos usar como query a sequência do NCBI do o [GI|8332116](https://www.ncbi.nlm.nih.gov/nuccore/237757283). Em seguida vamos salvar esse resultado em um arquivo no formato XML. Salvar o resultado sempre é uma boa prática, pois o Blast pode demorar muito para rodar e você não quer arriscar perder esses resultados. "
   ]
  },
  {
   "cell_type": "code",
   "execution_count": null,
   "metadata": {},
   "outputs": [],
   "source": [
    "result_handle = NCBIWWW.qblast(program=\"blastn\", database=\"nt\", sequence='237757283', entrez_query=\"human[Organism]\", ncbi_gi=True)"
   ]
  },
  {
   "cell_type": "code",
   "execution_count": null,
   "metadata": {},
   "outputs": [],
   "source": [
    "with open(\"my_blast.xml\", \"w\") as out_handle:\n",
    "    out_handle.write(result_handle.read())\n",
    "result_handle.close()"
   ]
  },
  {
   "cell_type": "markdown",
   "metadata": {},
   "source": [
    "Agora podemos abrir o resultado do blast com a classe SearchIO e dar uma olhada nos resultados. Esta classe foi especialmente desenvolvida para fazer o parser da saída de diversos programas de alinhamento como Blat, Exonarate e HMMer. O modelo dela consiste uma hierarquia de objetos do Python.\n",
    "\n",
    "- QueryResult, este é o primeiro nível que consiste em uma única sequência que foi a query;\n",
    "- Hit, cada query pode ter zero ou multiplos hits, sendo que cada hit representa um único hit no banco de dados;\n",
    "- HSP (abreviação para high-scoring pair), eles representam regiões com alinhamento significante entre a query e a sequência do bando de dados. Cada hit pode ter 1 ou mais HSPs;\n",
    "- HSPFragment, representam alinhamentos continuos entre a query e a sequência do banco de dados. Nos resultados do blast os HSPFragments são unificados, então cada HSP só vai ter um HSPFragment. Contudo, outras ferramentas como Exonerate e BLAT produzem HSP com multiplos HSPFragment."
   ]
  },
  {
   "cell_type": "code",
   "execution_count": null,
   "metadata": {},
   "outputs": [],
   "source": [
    "#listar as queries\n",
    "from Bio import SearchIO\n",
    "query = SearchIO.read(\"my_blast.xml\", \"blast-xml\")\n",
    "\n",
    "print(\"%s\" % query)"
   ]
  },
  {
   "cell_type": "code",
   "execution_count": null,
   "metadata": {},
   "outputs": [],
   "source": [
    "#listar os hits\n",
    "for hit in query:\n",
    "    print(\"%s\\n\" % hit)"
   ]
  },
  {
   "cell_type": "code",
   "execution_count": null,
   "metadata": {},
   "outputs": [],
   "source": [
    "#listar os hsp\n",
    "for hit in query:\n",
    "    for hsp in hit:\n",
    "        print(\"%s\\n\" % hsp)"
   ]
  },
  {
   "cell_type": "code",
   "execution_count": null,
   "metadata": {},
   "outputs": [],
   "source": [
    "#número de hits do resultado \n",
    "print(\"Número de Hits = %s\\n%s\" % (len(query), query))"
   ]
  },
  {
   "cell_type": "code",
   "execution_count": null,
   "metadata": {},
   "outputs": [],
   "source": [
    "#Acessar o primeiro hit do resultado\n",
    "print(\"%s\" % (query[0]))"
   ]
  },
  {
   "cell_type": "code",
   "execution_count": null,
   "metadata": {},
   "outputs": [],
   "source": [
    "#acessar o último resultado\n",
    "print(\"%s\" % (query[-1]))"
   ]
  },
  {
   "cell_type": "code",
   "execution_count": null,
   "metadata": {},
   "outputs": [],
   "source": [
    "#Slice dos resultados\n",
    "blast_slice = query[:3]\n",
    "print(\"%s\" % (blast_slice))"
   ]
  },
  {
   "cell_type": "markdown",
   "metadata": {},
   "source": [
    "Assim como em um dicionário em Python você pode consultar acessa-lo diretamente através do ID do Hit."
   ]
  },
  {
   "cell_type": "code",
   "execution_count": null,
   "metadata": {},
   "outputs": [],
   "source": [
    "query[\"gi|237681126|ref|NR_027676.1|\"]"
   ]
  },
  {
   "cell_type": "markdown",
   "metadata": {},
   "source": [
    "Da mesma foram também é possível consultar se determinado Hit existe."
   ]
  },
  {
   "cell_type": "code",
   "execution_count": null,
   "metadata": {},
   "outputs": [],
   "source": [
    "\"gi|237681126|ref|NR_027676.1|\" in query"
   ]
  },
  {
   "cell_type": "code",
   "execution_count": null,
   "metadata": {},
   "outputs": [],
   "source": [
    "\"gi|237681126|ref|NR_027676|\" in blast_qresult"
   ]
  },
  {
   "cell_type": "markdown",
   "metadata": {},
   "source": [
    "Também é possívem retornar a posição em que determinado Hit se encontra."
   ]
  },
  {
   "cell_type": "code",
   "execution_count": null,
   "metadata": {},
   "outputs": [],
   "source": [
    "query.index(\"gi|237681126|ref|NR_027676.1|\")"
   ]
  },
  {
   "cell_type": "markdown",
   "metadata": {},
   "source": [
    "### 5.1 Atributos dos Hits e HSP\n",
    "Vamos ver com listar alguns atributos dos Hits e HSPs"
   ]
  },
  {
   "cell_type": "code",
   "execution_count": null,
   "metadata": {},
   "outputs": [],
   "source": [
    "#Aqui pegamos um dos Hits da query\n",
    "blast_hit = query[45]\n",
    "blast_hit"
   ]
  },
  {
   "cell_type": "code",
   "execution_count": null,
   "metadata": {},
   "outputs": [],
   "source": [
    "#atributos do Hit\n",
    "print(\"Accession: %s\" % blast_hit.accession)\n",
    "print(\"Blast_id: %s\" % blast_hit.blast_id)\n",
    "print(\"Description: %s\" % blast_hit.description)"
   ]
  },
  {
   "cell_type": "code",
   "execution_count": null,
   "metadata": {},
   "outputs": [],
   "source": [
    "#Aqui pegamos um dos HSPs\n",
    "blast_hsp = blast_hit.hsps[0]\n",
    "blast_hsp"
   ]
  },
  {
   "cell_type": "code",
   "execution_count": null,
   "metadata": {},
   "outputs": [],
   "source": [
    "blast_hsp.evalue"
   ]
  },
  {
   "cell_type": "code",
   "execution_count": null,
   "metadata": {},
   "outputs": [],
   "source": [
    "blast_hsp.hit_start"
   ]
  },
  {
   "cell_type": "code",
   "execution_count": null,
   "metadata": {},
   "outputs": [],
   "source": [
    "blast_hsp.query_span"
   ]
  },
  {
   "cell_type": "code",
   "execution_count": null,
   "metadata": {},
   "outputs": [],
   "source": [
    "blast_hsp.aln_span"
   ]
  },
  {
   "cell_type": "code",
   "execution_count": null,
   "metadata": {},
   "outputs": [],
   "source": [
    "blast_hsp.gap_num"
   ]
  },
  {
   "cell_type": "code",
   "execution_count": null,
   "metadata": {},
   "outputs": [],
   "source": [
    "blast_hsp.ident_num"
   ]
  },
  {
   "cell_type": "code",
   "execution_count": null,
   "metadata": {},
   "outputs": [],
   "source": [
    "blast_hsp.query"
   ]
  },
  {
   "cell_type": "code",
   "execution_count": null,
   "metadata": {},
   "outputs": [],
   "source": [
    "blast_hsp.hit"
   ]
  },
  {
   "cell_type": "markdown",
   "metadata": {},
   "source": [
    "### Exercício 3\n",
    "\n",
    "Dada um arquivo com uma sequência no formato FASTA que já se encontra no diretório atual com o nome 'execi.fa':\n",
    "- Abra-o, faça um blastn contra no banco de dados nt; \n",
    "- Pegue o primeiro Hit, liste os HSPs e ache uma inserção na query que não tem no Hit do banco de dados;\n",
    "- Com as coordenadas da inserção selecione apenas essa região na sua query e salve em um arquivo com o nome \"dna_message.dna\". \n",
    "- Após salvar crie uma nova célula e execute com os seguintes comandos e desvende a menssagem:\n",
    "\n",
    "%%bash\n",
    "\n",
    "python2.7 dna.py -d dna_message.dna\n",
    "\n",
    "cat dna_message.decoded"
   ]
  },
  {
   "cell_type": "code",
   "execution_count": null,
   "metadata": {},
   "outputs": [],
   "source": []
  }
 ],
 "metadata": {
  "kernelspec": {
   "display_name": "Python 3",
   "language": "python",
   "name": "python3"
  },
  "language_info": {
   "codemirror_mode": {
    "name": "ipython",
    "version": 3
   },
   "file_extension": ".py",
   "mimetype": "text/x-python",
   "name": "python",
   "nbconvert_exporter": "python",
   "pygments_lexer": "ipython3",
   "version": "3.6.7"
  }
 },
 "nbformat": 4,
 "nbformat_minor": 2
}
