{
 "cells": [
  {
   "cell_type": "markdown",
   "metadata": {},
   "source": [
    "# Variáveis e Tipos Básicos\n",
    "\n",
    "Uma das coisas mais famosas - tanto para o bem quanto para o mal - de Python é que não é necessário declarar variáveis. Nem seus tipos. Nem nada. Você simplesmente dá uma instrução de atribuição..."
   ]
  },
  {
   "cell_type": "code",
   "execution_count": 1,
   "metadata": {},
   "outputs": [],
   "source": [
    "x = 10"
   ]
  },
  {
   "cell_type": "markdown",
   "metadata": {},
   "source": [
    "... e pronto! Temos uma variável x com o valor '10'.\n",
    "\n",
    "Isso não significa que Python aboliu a definição de tipos, muito pelo contrário. Os tipos ainda existem - como você deve ter imaginado, x é um inteiro, já vamos chegar nessa parte.\n",
    "\n",
    "A diferença é que o Python _inferiu_ o tipo com base no contexto. Você não precisou _declarar_ o tipo como faria em uma linguagem como C ou Java, onde seria necessário escrever algo do tipo `int x = 10;`\n",
    "\n",
    "Você pode inspecionar o tipo de uma variável usando o comando `type`:"
   ]
  },
  {
   "cell_type": "code",
   "execution_count": 4,
   "metadata": {},
   "outputs": [
    {
     "data": {
      "text/plain": [
       "int"
      ]
     },
     "execution_count": 4,
     "metadata": {},
     "output_type": "execute_result"
    }
   ],
   "source": [
    "type(x)"
   ]
  },
  {
   "cell_type": "markdown",
   "metadata": {},
   "source": [
    "Podemos também alterar dinamicamente o tipo de uma variável:"
   ]
  },
  {
   "cell_type": "code",
   "execution_count": 7,
   "metadata": {},
   "outputs": [
    {
     "data": {
      "text/plain": [
       "str"
      ]
     },
     "execution_count": 7,
     "metadata": {},
     "output_type": "execute_result"
    }
   ],
   "source": [
    "x = \"Banana\"\n",
    "type(x)"
   ]
  },
  {
   "cell_type": "markdown",
   "metadata": {},
   "source": [
    "Os tipos embutidos na linguagem são [bem variados](https://docs.python.org/3/library/stdtypes.html). Ao longo do curso, exploraremos alguns deles. Nesse momento, vou me limitar aos tipos numéricos, booleanos e strings."
   ]
  },
  {
   "cell_type": "markdown",
   "metadata": {},
   "source": [
    "## Números\n",
    "\n",
    "Existem três tipos nativos de números em Python - inteiros, números com ponto flutuante e números complexos."
   ]
  },
  {
   "cell_type": "code",
   "execution_count": 15,
   "metadata": {},
   "outputs": [],
   "source": [
    "salário_mínimo = 954\n",
    "cotação_do_dólar = 3.72\n",
    "raíz_quadrada_de_menos_um = 1j"
   ]
  },
  {
   "cell_type": "markdown",
   "metadata": {},
   "source": [
    "_(Código em Português?! Com acento?? São duas coisas que causam estranheza muitas vezes. De fato, ao programar com a finalidade de desenvolver software, o usual é programarmos em Inglês. Vou tratar disso mais pra frente. Como estamos lidando com uma parte mais básica da linguagem, prefiro escrever o código no mesmo idioma que o resto do texto. Python desde a versão 3.0 aceita caracteres acentuados como nomes de identificadores)_\n",
    "\n",
    "Vamos inspecionar o tipo das três variáveis criadas:"
   ]
  },
  {
   "cell_type": "code",
   "execution_count": 16,
   "metadata": {},
   "outputs": [
    {
     "data": {
      "text/plain": [
       "int"
      ]
     },
     "execution_count": 16,
     "metadata": {},
     "output_type": "execute_result"
    }
   ],
   "source": [
    "type(salário_mínimo)"
   ]
  },
  {
   "cell_type": "code",
   "execution_count": 17,
   "metadata": {},
   "outputs": [
    {
     "data": {
      "text/plain": [
       "float"
      ]
     },
     "execution_count": 17,
     "metadata": {},
     "output_type": "execute_result"
    }
   ],
   "source": [
    "type(cotação_do_dólar)"
   ]
  },
  {
   "cell_type": "code",
   "execution_count": 19,
   "metadata": {},
   "outputs": [
    {
     "data": {
      "text/plain": [
       "complex"
      ]
     },
     "execution_count": 19,
     "metadata": {},
     "output_type": "execute_result"
    }
   ],
   "source": [
    "type(raíz_quadrada_de_menos_um)"
   ]
  },
  {
   "cell_type": "markdown",
   "metadata": {},
   "source": [
    "As operações usuais estão definidas:\n",
    "\n",
    "|Operação|Operador|Exemplo|\n",
    "|-----------|:---:|-------:|\n",
    "|Soma|+|`3 + 2 = 5`|\n",
    "|Subtração|-|`20 - 10 = 10`|\n",
    "|Divisão|\\|`3 / 2 = 1.5`|\n",
    "|Div. Inteira|//|`5 // 2 = 2`|\n",
    "|Modulo \"resto\"|%|`5 % 3 = 2`|\n",
    "|Potência|\\*\\*|`10 ** 2 = 100`|\n",
    "|Val. Absoluto|`abs(x)`|`abs(-10) = 10`|\n"
   ]
  },
  {
   "cell_type": "markdown",
   "metadata": {},
   "source": []
  },
  {
   "cell_type": "markdown",
   "metadata": {},
   "source": [
    "### Exercícios\n",
    "\n",
    "Modifique os trechos de código a baixo para que eles retornem o valor desejado - execute-os para verificar"
   ]
  },
  {
   "cell_type": "code",
   "execution_count": null,
   "metadata": {},
   "outputs": [],
   "source": [
    "# Armazene sua idade na variável a baixo e calcule o dobro\n",
    "idade = 0\n",
    "print(idade)"
   ]
  },
  {
   "cell_type": "code",
   "execution_count": 24,
   "metadata": {},
   "outputs": [
    {
     "name": "stdout",
     "output_type": "stream",
     "text": [
      "0\n"
     ]
    }
   ],
   "source": [
    "# Some os 3 primeiros números ímpares\n",
    "soma = 0\n",
    "print(soma)"
   ]
  },
  {
   "cell_type": "code",
   "execution_count": 25,
   "metadata": {},
   "outputs": [
    {
     "name": "stdout",
     "output_type": "stream",
     "text": [
      "0\n"
     ]
    }
   ],
   "source": [
    "# Eleve o número 2 à potência 64, na variável x\n",
    "x = 0\n",
    "print(x)"
   ]
  },
  {
   "cell_type": "markdown",
   "metadata": {},
   "source": [
    "## Booleanos\n",
    "\n",
    "Variáveis booleanas armazenam apenas \"verdadeiro\" ou \"falso\". Assim como as numéricas, essa atribuição pode ser direta ou através de expressões"
   ]
  }
 ],
 "metadata": {
  "kernelspec": {
   "display_name": "Python 3",
   "language": "python",
   "name": "python3"
  },
  "language_info": {
   "codemirror_mode": {
    "name": "ipython",
    "version": 3
   },
   "file_extension": ".py",
   "mimetype": "text/x-python",
   "name": "python",
   "nbconvert_exporter": "python",
   "pygments_lexer": "ipython3",
   "version": "3.6.5"
  }
 },
 "nbformat": 4,
 "nbformat_minor": 2
}
