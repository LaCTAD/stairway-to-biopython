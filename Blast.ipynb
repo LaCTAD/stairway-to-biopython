{
 "cells": [
  {
   "cell_type": "code",
   "execution_count": 1,
   "metadata": {},
   "outputs": [],
   "source": [
    "from Bio.Blast import NCBIWWW\n",
    "result_handle = NCBIWWW.qblast(\"blastn\", \"nt\", \"8332116\")"
   ]
  },
  {
   "cell_type": "code",
   "execution_count": 2,
   "metadata": {},
   "outputs": [],
   "source": [
    "with open(\"my_blast.xml\", \"w\") as out_handle:\n",
    "    out_handle.write(result_handle.read())\n",
    "result_handle.close()"
   ]
  },
  {
   "cell_type": "code",
   "execution_count": 6,
   "metadata": {},
   "outputs": [
    {
     "data": {
      "text/plain": [
       "NcbiblastxCommandline(cmd='blastx', out='opuntia.xml', outfmt=5, query='rev_comp.fasta', db='nr', evalue=0.001)"
      ]
     },
     "execution_count": 6,
     "metadata": {},
     "output_type": "execute_result"
    }
   ],
   "source": [
    "from Bio.Blast.Applications import NcbiblastxCommandline\n",
    "blastx_cline = NcbiblastxCommandline(query=\"rev_comp.fasta\", db=\"nr\", evalue=0.001, outfmt=5, out=\"opuntia.xml\")\n",
    "blastx_cline"
   ]
  },
  {
   "cell_type": "code",
   "execution_count": 7,
   "metadata": {},
   "outputs": [
    {
     "name": "stdout",
     "output_type": "stream",
     "text": [
      "blastx -out opuntia.xml -outfmt 5 -query rev_comp.fasta -db nr -evalue 0.001\n"
     ]
    }
   ],
   "source": [
    "print(blastx_cline)"
   ]
  },
  {
   "cell_type": "code",
   "execution_count": 8,
   "metadata": {},
   "outputs": [
    {
     "ename": "ApplicationError",
     "evalue": "Non-zero return code 2 from 'blastx -out opuntia.xml -outfmt 5 -query rev_comp.fasta -db nr -evalue 0.001', message 'BLAST Database error: No alias or index file found for protein database [nr] in search path [/data/Dropbox/LaCTAD/curso_python::]'",
     "output_type": "error",
     "traceback": [
      "\u001b[0;31m---------------------------------------------------------------------------\u001b[0m",
      "\u001b[0;31mApplicationError\u001b[0m                          Traceback (most recent call last)",
      "\u001b[0;32m<ipython-input-8-e6ef018801be>\u001b[0m in \u001b[0;36m<module>\u001b[0;34m()\u001b[0m\n\u001b[0;32m----> 1\u001b[0;31m \u001b[0mstdout\u001b[0m\u001b[0;34m,\u001b[0m \u001b[0mstderr\u001b[0m \u001b[0;34m=\u001b[0m \u001b[0mblastx_cline\u001b[0m\u001b[0;34m(\u001b[0m\u001b[0;34m)\u001b[0m\u001b[0;34m\u001b[0m\u001b[0;34m\u001b[0m\u001b[0m\n\u001b[0m",
      "\u001b[0;32m~/miniconda3/lib/python3.6/site-packages/Bio/Application/__init__.py\u001b[0m in \u001b[0;36m__call__\u001b[0;34m(self, stdin, stdout, stderr, cwd, env)\u001b[0m\n\u001b[1;32m    526\u001b[0m         \u001b[0;32mif\u001b[0m \u001b[0mreturn_code\u001b[0m\u001b[0;34m:\u001b[0m\u001b[0;34m\u001b[0m\u001b[0;34m\u001b[0m\u001b[0m\n\u001b[1;32m    527\u001b[0m             raise ApplicationError(return_code, str(self),\n\u001b[0;32m--> 528\u001b[0;31m                                    stdout_str, stderr_str)\n\u001b[0m\u001b[1;32m    529\u001b[0m         \u001b[0;32mreturn\u001b[0m \u001b[0mstdout_str\u001b[0m\u001b[0;34m,\u001b[0m \u001b[0mstderr_str\u001b[0m\u001b[0;34m\u001b[0m\u001b[0;34m\u001b[0m\u001b[0m\n\u001b[1;32m    530\u001b[0m \u001b[0;34m\u001b[0m\u001b[0m\n",
      "\u001b[0;31mApplicationError\u001b[0m: Non-zero return code 2 from 'blastx -out opuntia.xml -outfmt 5 -query rev_comp.fasta -db nr -evalue 0.001', message 'BLAST Database error: No alias or index file found for protein database [nr] in search path [/data/Dropbox/LaCTAD/curso_python::]'"
     ]
    }
   ],
   "source": [
    "stdout, stderr = blastx_cline()"
   ]
  },
  {
   "cell_type": "code",
   "execution_count": 9,
   "metadata": {},
   "outputs": [],
   "source": [
    "result_handle = open(\"my_blast.xml\")\n",
    "from Bio.Blast import NCBIXML\n",
    "blast_record = NCBIXML.read(result_handle)"
   ]
  },
  {
   "cell_type": "code",
   "execution_count": 10,
   "metadata": {},
   "outputs": [],
   "source": [
    "E_VALUE_THRESH = 0.04"
   ]
  },
  {
   "cell_type": "code",
   "execution_count": 13,
   "metadata": {},
   "outputs": [
    {
     "name": "stdout",
     "output_type": "stream",
     "text": [
      "****Alignment****\n",
      "sequence: gi|1219041180|ref|XM_021875076.1| PREDICTED: Chenopodium quinoa cold-regulated 413 plasma membrane protein 2-like (LOC110697660), mRNA\n",
      "length: 1173\n",
      "e-value: 1.23171e-117\n",
      "ACAGAAAATGGGGAGAGAAATGAAGTACTTGGCCATGAAAACTGATCAATTGGCCGTGGCTAATATGATCGATTC...\n",
      "|| ||||||||| |||| | |||| ||  |||| |||| | |||| ||| | |||| ||| ||| ||||| | ||...\n",
      "ACCGAAAATGGGCAGAGGAGTGAATTATATGGCAATGACACCTGAGCAACTAGCCGCGGCCAATTTGATCAACTC...\n",
      "****Alignment****\n",
      "sequence: gi|1226796956|ref|XM_021992092.1| PREDICTED: Spinacia oleracea cold-regulated 413 plasma membrane protein 2-like (LOC110787470), mRNA\n",
      "length: 672\n",
      "e-value: 7.77295e-114\n",
      "AAAATGGGGAGAGAAATGAAGTACTTGGCCATGAAAACTGATCAATTGGCCGTGGCTAATATGATCGATTCCGAT...\n",
      "|||||||| |||  |||| | || ||||| |||||||| || ||||| |||| ||| ||| ||||||||||||||...\n",
      "AAAATGGGTAGACGAATGGATTATTTGGCGATGAAAACCGAGCAATTAGCCGCGGCCAATTTGATCGATTCCGAT...\n",
      "****Alignment****\n",
      "sequence: gi|731339628|ref|XM_010682658.1| PREDICTED: Beta vulgaris subsp. vulgaris cold-regulated 413 plasma membrane protein 2 (LOC104895996), mRNA\n",
      "length: 847\n",
      "e-value: 2.08577e-108\n",
      "TTGGCCATGAAAACTGATCAATTGGCCGTGGCTAATATGATCGATTCCGATATCAATGAGCTTAAAATGGCAACA...\n",
      "||||||||||||||||| ||| ||||  |||||||| |||| ||||  ||||| ||||| ||||| || ||    ...\n",
      "TTGGCCATGAAAACTGAGCAAATGGCGTTGGCTAATTTGATAGATTATGATATGAATGAACTTAAGATCGCTTTG...\n",
      "****Alignment****\n",
      "sequence: gi|1389679838|ref|XM_016034586.2| PREDICTED: Ziziphus jujuba cold-regulated 413 plasma membrane protein 2-like (LOC107424728), mRNA\n",
      "length: 946\n",
      "e-value: 1.08046e-105\n",
      "AAAATGGGGAGAGAAATGAAGTACTTGGCCATGAAAACTGATCAATTGGCCGTGGCTAATATGATCGATTCCGAT...\n",
      "|||||||||||    ||| |||  ||||| |||| |||||||| |   |||  |||| |  ||||  |||| |||...\n",
      "AAAATGGGGAGG---ATGGAGTTTTTGGCTATGAGAACTGATCCA---GCCACGGCTGACTTGATAAATTCTGAT...\n",
      "****Alignment****\n",
      "sequence: gi|1098839281|ref|XM_018970776.1| PREDICTED: Juglans regia cold-regulated 413 plasma membrane protein 2 (LOC108995251), mRNA\n",
      "length: 977\n",
      "e-value: 1.60354e-103\n",
      "AATGGGGAGAGAAATGAAGTACTTGGCCATGAAAACTGATCAATT---------GGCCGTGGCTAATATGATCGA...\n",
      "||||||||| |||  | | || |||||||||||||||||||             ||||  |||  || |||||||...\n",
      "AATGGGGAG-GAA--GGATTATTTGGCCATGAAAACTGATCCGGCCACGGCCACGGCCACGGCGGATTTGATCGA...\n",
      "****Alignment****\n",
      "sequence: gi|1389549632|ref|XM_006466626.3| PREDICTED: Citrus sinensis cold-regulated 413 plasma membrane protein 2 (LOC102620025), transcript variant X5, mRNA\n",
      "length: 880\n",
      "e-value: 1.2328e-98\n",
      "AAATGGGGAGAGAAATGAAGTACTTGGCCATGAAAACTGATCAATTGGCCGTGGCTAATATGATCGATTCCGATA...\n",
      "|||||||||||    |||| || ||||| |||||||||||| |   ||  |  ||  |  |||||   || ||| ...\n",
      "AAATGGGGAGAT---TGAATTATTTGGCTATGAAAACTGATGATCAGGTTGCAGCAGAGTTGATCAGCTCTGATT...\n",
      "****Alignment****\n",
      "sequence: gi|1389549631|ref|XM_006466625.2| PREDICTED: Citrus sinensis cold-regulated 413 plasma membrane protein 2 (LOC102620025), transcript variant X4, mRNA\n",
      "length: 946\n",
      "e-value: 1.2328e-98\n",
      "AAATGGGGAGAGAAATGAAGTACTTGGCCATGAAAACTGATCAATTGGCCGTGGCTAATATGATCGATTCCGATA...\n",
      "|||||||||||    |||| || ||||| |||||||||||| |   ||  |  ||  |  |||||   || ||| ...\n",
      "AAATGGGGAGAT---TGAATTATTTGGCTATGAAAACTGATGATCAGGTTGCAGCAGAGTTGATCAGCTCTGATT...\n",
      "****Alignment****\n",
      "sequence: gi|1389549630|ref|XM_006466624.3| PREDICTED: Citrus sinensis cold-regulated 413 plasma membrane protein 2 (LOC102620025), transcript variant X3, mRNA\n",
      "length: 956\n",
      "e-value: 1.2328e-98\n",
      "AAATGGGGAGAGAAATGAAGTACTTGGCCATGAAAACTGATCAATTGGCCGTGGCTAATATGATCGATTCCGATA...\n",
      "|||||||||||    |||| || ||||| |||||||||||| |   ||  |  ||  |  |||||   || ||| ...\n",
      "AAATGGGGAGAT---TGAATTATTTGGCTATGAAAACTGATGATCAGGTTGCAGCAGAGTTGATCAGCTCTGATT...\n",
      "****Alignment****\n",
      "sequence: gi|1389549629|ref|XM_006466623.3| PREDICTED: Citrus sinensis cold-regulated 413 plasma membrane protein 2 (LOC102620025), transcript variant X2, mRNA\n",
      "length: 1014\n",
      "e-value: 1.2328e-98\n",
      "AAATGGGGAGAGAAATGAAGTACTTGGCCATGAAAACTGATCAATTGGCCGTGGCTAATATGATCGATTCCGATA...\n",
      "|||||||||||    |||| || ||||| |||||||||||| |   ||  |  ||  |  |||||   || ||| ...\n",
      "AAATGGGGAGAT---TGAATTATTTGGCTATGAAAACTGATGATCAGGTTGCAGCAGAGTTGATCAGCTCTGATT...\n",
      "****Alignment****\n",
      "sequence: gi|1389549624|ref|XM_025094967.1| PREDICTED: Citrus sinensis cold-regulated 413 plasma membrane protein 2 (LOC102620025), transcript variant X1, mRNA\n",
      "length: 978\n",
      "e-value: 1.2328e-98\n",
      "AAATGGGGAGAGAAATGAAGTACTTGGCCATGAAAACTGATCAATTGGCCGTGGCTAATATGATCGATTCCGATA...\n",
      "|||||||||||    |||| || ||||| |||||||||||| |   ||  |  ||  |  |||||   || ||| ...\n",
      "AAATGGGGAGAT---TGAATTATTTGGCTATGAAAACTGATGATCAGGTTGCAGCAGAGTTGATCAGCTCTGATT...\n",
      "****Alignment****\n",
      "sequence: gi|1350315641|ref|XM_024180293.1| PREDICTED: Citrus clementina cold-regulated 413 plasma membrane protein 2 (LOC18037141), transcript variant X4, mRNA\n",
      "length: 868\n",
      "e-value: 1.2328e-98\n",
      "AAATGGGGAGAGAAATGAAGTACTTGGCCATGAAAACTGATCAATTGGCCGTGGCTAATATGATCGATTCCGATA...\n",
      "|||||||||||    |||| || ||||| |||||||||||| |   ||  |  ||  |  |||||   || ||| ...\n",
      "AAATGGGGAGAT---TGAATTATTTGGCTATGAAAACTGATGATCAGGTTGCAGCAGAGTTGATCAGCTCTGATT...\n",
      "****Alignment****\n",
      "sequence: gi|1350315638|ref|XM_006425719.2| PREDICTED: Citrus clementina cold-regulated 413 plasma membrane protein 2 (LOC18037141), transcript variant X3, mRNA\n",
      "length: 893\n",
      "e-value: 1.2328e-98\n",
      "AAATGGGGAGAGAAATGAAGTACTTGGCCATGAAAACTGATCAATTGGCCGTGGCTAATATGATCGATTCCGATA...\n",
      "|||||||||||    |||| || ||||| |||||||||||| |   ||  |  ||  |  |||||   || ||| ...\n",
      "AAATGGGGAGAT---TGAATTATTTGGCTATGAAAACTGATGATCAGGTTGCAGCAGAGTTGATCAGCTCTGATT...\n",
      "****Alignment****\n",
      "sequence: gi|1350315636|ref|XM_006425716.2| PREDICTED: Citrus clementina cold-regulated 413 plasma membrane protein 2 (LOC18037141), transcript variant X2, mRNA\n",
      "length: 881\n",
      "e-value: 1.2328e-98\n",
      "AAATGGGGAGAGAAATGAAGTACTTGGCCATGAAAACTGATCAATTGGCCGTGGCTAATATGATCGATTCCGATA...\n",
      "|||||||||||    |||| || ||||| |||||||||||| |   ||  |  ||  |  |||||   || ||| ...\n",
      "AAATGGGGAGAT---TGAATTATTTGGCTATGAAAACTGATGATCAGGTTGCAGCAGAGTTGATCAGCTCTGATT...\n",
      "****Alignment****\n",
      "sequence: gi|1350315634|ref|XM_006425717.2| PREDICTED: Citrus clementina cold-regulated 413 plasma membrane protein 2 (LOC18037141), transcript variant X1, mRNA\n",
      "length: 952\n",
      "e-value: 1.2328e-98\n",
      "AAATGGGGAGAGAAATGAAGTACTTGGCCATGAAAACTGATCAATTGGCCGTGGCTAATATGATCGATTCCGATA...\n",
      "|||||||||||    |||| || ||||| |||||||||||| |   ||  |  ||  |  |||||   || ||| ...\n",
      "AAATGGGGAGAT---TGAATTATTTGGCTATGAAAACTGATGATCAGGTTGCAGCAGAGTTGATCAGCTCTGATT...\n",
      "****Alignment****\n",
      "sequence: gi|1204884098|ref|XM_021445554.1| PREDICTED: Herrania umbratica cold-regulated 413 plasma membrane protein 2-like (LOC110429488), mRNA\n",
      "length: 905\n",
      "e-value: 1.2328e-98\n",
      "AAATGGGGAGAGAAATGAAGTACTTGGCCATGAAAACTGATCAATTGGCCGTGGCTAATATGATCGATTCCGATA...\n",
      "|||||||||||   ||| | || ||||| |||||||| ||||   | || |  |   || |||||  ||| ||||...\n",
      "AAATGGGGAGA---ATGGACTATTTGGCTATGAAAACAGATCCTGTAGCAGAAG---ATTTGATCAGTTCTGATA...\n",
      "****Alignment****\n",
      "sequence: gi|1227938481|ref|XM_022049453.1| PREDICTED: Carica papaya cold-regulated 413 plasma membrane protein 2-like (LOC110820077), mRNA\n",
      "length: 1009\n",
      "e-value: 5.242e-97\n",
      "AGAAAATGGGGAGAGAAATGAAGTACTTGGCCATGAAAACTGATCAATTGGCCGTGGCTAATATGATCGATTCCG...\n",
      "|||||||||||||    ||| | || ||||| ||||| ||||||||   ||||   ||| || | |||  ||| |...\n",
      "AGAAAATGGGGAGG---ATGGAATATTTGGCTATGAAGACTGATCA---GGCCACTGCTGATCTCATCACTTCTG...\n",
      "****Alignment****\n",
      "sequence: gi|1063463253|ref|XM_007047033.2| PREDICTED: Theobroma cacao cold-regulated 413 plasma membrane protein 2 (LOC18611025), transcript variant X2, mRNA\n",
      "length: 1071\n",
      "e-value: 2.22896e-95\n",
      "TGTGAACAGA-AAATGGGGAGAGAAATGAAGTACTTGGCCATGAAAACTGATCAATTGGCCGTGGCTAATATGAT...\n",
      "|| |||| || |||||||||||   ||| | || ||||| |||||||| ||||   | || |  |   || ||||...\n",
      "TGAGAACTGAGAAATGGGGAGA---ATGGACTATTTGGCTATGAAAACAGATCCTGTAGCAGAAG---ATTTGAT...\n",
      "****Alignment****\n",
      "sequence: gi|1063463252|ref|XM_007047032.2| PREDICTED: Theobroma cacao cold-regulated 413 plasma membrane protein 2 (LOC18611025), transcript variant X1, mRNA\n",
      "length: 1065\n",
      "e-value: 2.22896e-95\n",
      "TGTGAACAGA-AAATGGGGAGAGAAATGAAGTACTTGGCCATGAAAACTGATCAATTGGCCGTGGCTAATATGAT...\n",
      "|| |||| || |||||||||||   ||| | || ||||| |||||||| ||||   | || |  |   || ||||...\n",
      "TGAGAACTGAGAAATGGGGAGA---ATGGACTATTTGGCTATGAAAACAGATCCTGTAGCAGAAG---ATTTGAT...\n",
      "****Alignment****\n",
      "sequence: gi|1269881407|ref|XM_022895605.1| PREDICTED: Durio zibethinus cold-regulated 413 plasma membrane protein 2 (LOC111300020), transcript variant X3, mRNA\n",
      "length: 1069\n",
      "e-value: 7.77982e-95\n",
      "AAATGGGGAGAGAAATGAAGTACTTGGCCATGAAAACTGATCAATTGGCCGTGGCTAATATGATCGATTCCGATA...\n",
      "|||||||||||   ||| |||| ||||| |||||||||||||   | || |  |  ||| |||||  ||| ||||...\n",
      "AAATGGGGAGA---ATGGAGTATTTGGCTATGAAAACTGATCCTGTAGCTGAAG--AAT-TGATCAGTTCTGATA...\n",
      "****Alignment****\n",
      "sequence: gi|1269881405|ref|XM_022895604.1| PREDICTED: Durio zibethinus cold-regulated 413 plasma membrane protein 2 (LOC111300020), transcript variant X2, mRNA\n",
      "length: 1091\n",
      "e-value: 7.77982e-95\n",
      "AAATGGGGAGAGAAATGAAGTACTTGGCCATGAAAACTGATCAATTGGCCGTGGCTAATATGATCGATTCCGATA...\n",
      "|||||||||||   ||| |||| ||||| |||||||||||||   | || |  |  ||| |||||  ||| ||||...\n",
      "AAATGGGGAGA---ATGGAGTATTTGGCTATGAAAACTGATCCTGTAGCTGAAG--AAT-TGATCAGTTCTGATA...\n",
      "****Alignment****\n",
      "sequence: gi|1269881403|ref|XM_022895603.1| PREDICTED: Durio zibethinus cold-regulated 413 plasma membrane protein 2 (LOC111300020), transcript variant X1, mRNA\n",
      "length: 1072\n",
      "e-value: 7.77982e-95\n",
      "AAATGGGGAGAGAAATGAAGTACTTGGCCATGAAAACTGATCAATTGGCCGTGGCTAATATGATCGATTCCGATA...\n",
      "|||||||||||   ||| |||| ||||| |||||||||||||   | || |  |  ||| |||||  ||| ||||...\n",
      "AAATGGGGAGA---ATGGAGTATTTGGCTATGAAAACTGATCCTGTAGCTGAAG--AAT-TGATCAGTTCTGATA...\n",
      "****Alignment****\n",
      "sequence: gi|1098846744|ref|XM_018974650.1| PREDICTED: Juglans regia cold-regulated 413 plasma membrane protein 2-like (LOC108998174), mRNA\n",
      "length: 975\n",
      "e-value: 1.15463e-92\n",
      "AATGGGGAGAGAAATGAAGTACTTGGCCATGAAAACTGATCAATTGGCCGTGGCTAATATGATCGATTCCGATAT...\n",
      "|||||||||    ||||| || ||||| |||||||||||||    |||  ||| | || ||||||  || |||||...\n",
      "AATGGGGAGG---ATGAATTATTTGGCTATGAAAACTGATCC---GGCAATGGATGATTTGATCGGCTCTGATAT...\n",
      "****Alignment****\n",
      "sequence: gi|1187397285|gb|KX009413.1| Santalum album COR413-PM2 mRNA, complete cds\n",
      "length: 837\n",
      "e-value: 4.03005e-92\n",
      "AATGGGGAGAGAAATGAAGTACTTGGCCATGAAAACTGATCAATTGGCCGTGGCTAATATGATCGATTCCGATAT...\n",
      "|||||||||    ||| | | ||||||||||||||| ||||    |||||  |   || ||||| ||||||| ||...\n",
      "AATGGGGAGG---ATGGATTTCTTGGCCATGAAAACAGATCCCGCGGCCGCCG---ATTTGATCAATTCCGACAT...\n",
      "****Alignment****\n",
      "sequence: gi|1079253150|ref|XM_009343631.2| PREDICTED: Pyrus x bretschneideri cold-regulated 413 plasma membrane protein 2-like (LOC103933927), mRNA\n",
      "length: 861\n",
      "e-value: 2.08762e-89\n",
      "TGATCGATTCCGATATCAATGAGCTTAAAATGGCAACAATGAGGCTCATCAATGATGCTAGTATGCTCGGTCATT...\n",
      "|||| ||||| |||||||| ||||| || || ||| | | ||| ||||||| |||||| |  | ||| |||  ||...\n",
      "TGATAGATTCAGATATCAAAGAGCTCAAGATTGCAGCCAAGAGACTCATCAGTGATGCCACCAAGCTTGGTGGTT...\n",
      "****Alignment****\n",
      "sequence: gi|1079253149|ref|XM_009343644.2| PREDICTED: Pyrus x bretschneideri cold-regulated 413 plasma membrane protein 2-like (LOC103933943), mRNA\n",
      "length: 876\n",
      "e-value: 2.08762e-89\n",
      "TGATCGATTCCGATATCAATGAGCTTAAAATGGCAACAATGAGGCTCATCAATGATGCTAGTATGCTCGGTCATT...\n",
      "|||| ||||| |||||||| ||||| || || ||| | | ||| ||||||| |||||| |  | ||| |||  ||...\n",
      "TGATAGATTCAGATATCAAAGAGCTCAAGATTGCAGCCAAGAGACTCATCAGTGATGCCACCAAGCTTGGTGGTT...\n",
      "****Alignment****\n",
      "sequence: gi|1079239703|ref|XM_009378191.2| PREDICTED: Pyrus x bretschneideri cold-regulated 413 plasma membrane protein 2 (LOC103965177), mRNA\n",
      "length: 885\n",
      "e-value: 2.08762e-89\n",
      "TGATCGATTCCGATATCAATGAGCTTAAAATGGCAACAATGAGGCTCATCAATGATGCTAGTATGCTCGGTCATT...\n",
      "|||| ||||| |||||||| ||||| || || ||| | | ||| ||||||| |||||| |  | ||| |||  ||...\n",
      "TGATAGATTCAGATATCAAAGAGCTCAAGATTGCAGCCAAGAGACTCATCAGTGATGCCACCAAGCTTGGTGGTT...\n",
      "****Alignment****\n",
      "sequence: gi|1350280614|ref|XM_024170292.1| PREDICTED: Morus notabilis cold-regulated 413 plasma membrane protein 2 (LOC21394987), mRNA\n",
      "length: 1020\n",
      "e-value: 7.28649e-89\n",
      "AAATGGGGAGAGAAATGAAGTACTTGGCCATGAAAACTGATCAATTGGCCGTGGCTAATATGATCGATTCCGATA...\n",
      "|||||||||| ||       || |||||||||||||| || | |   |||  |||| || ||||  |||| ||||...\n",
      "AAATGGGGAGGGAT------TATTTGGCCATGAAAACGGACCCA---GCCACGGCTGATTTGATAAATTCTGATA...\n",
      "****Alignment****\n",
      "sequence: gi|743838297|ref|XM_011027373.1| PREDICTED: Populus euphratica cold-regulated 413 plasma membrane protein 2 (LOC105126500), transcript variant X2, mRNA\n",
      "length: 1132\n",
      "e-value: 7.28649e-89\n",
      "AAAATGGGGAGAGAAATGAAGTACTTGGCCATGAAAACTGATCAATTGGCCGTGGCTAATATGATCGATTCCGAT...\n",
      "|||||||||||    ||| |||  |||   ||||| |||||| |    | |   |||||| | || |||||||||...\n",
      "AAAATGGGGAGG---ATGGAGTTTTTGAAGATGAAGACTGATGATGAAGTCAGCGCTAATTTAATTGATTCCGAT...\n",
      "****Alignment****\n",
      "sequence: gi|743838293|ref|XM_011027372.1| PREDICTED: Populus euphratica cold-regulated 413 plasma membrane protein 2 (LOC105126500), transcript variant X1, mRNA\n",
      "length: 980\n",
      "e-value: 7.28649e-89\n",
      "AAAATGGGGAGAGAAATGAAGTACTTGGCCATGAAAACTGATCAATTGGCCGTGGCTAATATGATCGATTCCGAT...\n",
      "|||||||||||    ||| |||  |||   ||||| |||||| |    | |   |||||| | || |||||||||...\n",
      "AAAATGGGGAGG---ATGGAGTTTTTGAAGATGAAGACTGATGATGAAGTCAGCGCTAATTTAATTGATTCCGAT...\n",
      "****Alignment****\n",
      "sequence: gi|1216950057|ref|XM_021815585.1| PREDICTED: Hevea brasiliensis cold-regulated 413 plasma membrane protein 2-like (LOC110658100), transcript variant X2, mRNA\n",
      "length: 1073\n",
      "e-value: 8.87677e-88\n",
      "AAATGGGGAGAGAAATGAAGTACTTGGCCATGAAAACTGATCAATTGGCCGTGGCTAATATGATCGATTCCGATA...\n",
      "||||||||||    ||| ||||||||   ||||  ||||||||| |  |   |||  || ||||| | || ||| ...\n",
      "AAATGGGGAGG---ATGGAGTACTTGAAAATGAGTACTGATCAAGTACC---GGCCGATTTGATCAAGTCTGATC...\n",
      "****Alignment****\n",
      "sequence: gi|1216950055|ref|XM_021815584.1| PREDICTED: Hevea brasiliensis cold-regulated 413 plasma membrane protein 2-like (LOC110658100), transcript variant X1, mRNA\n",
      "length: 1024\n",
      "e-value: 8.87677e-88\n",
      "AAATGGGGAGAGAAATGAAGTACTTGGCCATGAAAACTGATCAATTGGCCGTGGCTAATATGATCGATTCCGATA...\n",
      "||||||||||    ||| ||||||||   ||||  ||||||||| |  |   |||  || ||||| | || ||| ...\n",
      "AAATGGGGAGG---ATGGAGTACTTGAAAATGAGTACTGATCAAGTACC---GGCCGATTTGATCAAGTCTGATC...\n",
      "****Alignment****\n",
      "sequence: gi|1375871125|ref|XM_024605027.1| PREDICTED: Populus trichocarpa cold-regulated 413 plasma membrane protein 2 (LOC18101203), mRNA\n",
      "length: 1130\n",
      "e-value: 3.0983e-87\n",
      "AAAATGGGGAGAGAAATGAAGTACTTGGCCATGAAAACTGATCAATTGGCCGTGGCTAATATGATCGATTCCGAT...\n",
      "|||||||||||    ||| |||  |||   ||||| |||||| |    | |   |||||| | || || ||||||...\n",
      "AAAATGGGGAGG---ATGGAGTTTTTGAAGATGAAGACTGATGATGAAGTCAGCGCTAATTTAATTGAGTCCGAT...\n",
      "****Alignment****\n",
      "sequence: gi|1162571919|ref|XM_020568695.1| PREDICTED: Prunus persica cold-regulated 413 plasma membrane protein 2 (LOC18770198), transcript variant X2, mRNA\n",
      "length: 929\n",
      "e-value: 4.59828e-85\n",
      "TGATCGATTCCGATATCAATGAGCTTAAAATGGCAACAATGAGGCTCATCAATGATGCTAGTATGCTCGGTCATT...\n",
      "||||  |||| || |||||||| || || || ||| | | ||  |||||||||||||| | || ||| |||   |...\n",
      "TGATAAATTCAGACATCAATGATCTCAAGATTGCAGCCAAGAAACTCATCAATGATGCCACTAAGCTTGGTGGGT...\n",
      "****Alignment****\n",
      "sequence: gi|1162571918|ref|XM_007202530.2| PREDICTED: Prunus persica cold-regulated 413 plasma membrane protein 2 (LOC18770198), transcript variant X1, mRNA\n",
      "length: 811\n",
      "e-value: 4.59828e-85\n",
      "TGATCGATTCCGATATCAATGAGCTTAAAATGGCAACAATGAGGCTCATCAATGATGCTAGTATGCTCGGTCATT...\n",
      "||||  |||| || |||||||| || || || ||| | | ||  |||||||||||||| | || ||| |||   |...\n",
      "TGATAAATTCAGACATCAATGATCTCAAGATTGCAGCCAAGAAACTCATCAATGATGCCACTAAGCTTGGTGGGT...\n",
      "****Alignment****\n",
      "sequence: gi|1229761331|ref|XM_022277554.1| PREDICTED: Momordica charantia cold-regulated 413 plasma membrane protein 2-like (LOC111005887), mRNA\n",
      "length: 850\n",
      "e-value: 1.60496e-84\n",
      "ATTCCGATATCAATGAGCTTAAAATGGCAACAATGAGGCTCATCAATGATGCTAGTATGCTCGGTCATTACGGGT...\n",
      "|||| |||||||| ||||||||||| ||| | | ||||||  |  |  |||| |  | |||||||    | ||  ...\n",
      "ATTCTGATATCAACGAGCTTAAAATTGCAGCCACGAGGCTTCTTGAACATGCCACCAAGCTCGGTGGAAAGGGCC...\n",
      "****Alignment****\n",
      "sequence: gi|764593175|ref|XM_004300526.2| PREDICTED: Fragaria vesca subsp. vesca cold-regulated 413 plasma membrane protein 2 (LOC101313417), mRNA\n",
      "length: 1105\n",
      "e-value: 1.95524e-83\n",
      "ATGGGGAGAGAAATGAAGTACTTGGCCATGAAAACTGATCAATTGGCCGTGGCTAAT---ATGATCGATTCCGAT...\n",
      "|||||||| |   || | || ||||| ||||||||||| | | | ||   ||| |||    ||||  ||||||||...\n",
      "ATGGGGAGGG---TGGACTATTTGGCTATGAAAACTGACCCAGTTGC---GGCCAATGAGTTGATGAATTCCGAT...\n",
      "****Alignment****\n",
      "sequence: gi|1104507484|ref|XM_002274845.4| PREDICTED: Vitis vinifera cold-regulated 413 plasma membrane protein 2 (LOC100267774), mRNA\n",
      "length: 893\n",
      "e-value: 6.82445e-83\n",
      "TGAACAGAAAATGGGGAGAGAAATGAAGTACTTGGCCATGAAAACTGATCAATTGGCCGTGGCTAATATGATCGA...\n",
      "||||  ||||||||||||    ||| ||||  |||| |||||||||||||    |  |    | ||| ||||  |...\n",
      "TGAAACGAAAATGGGGAGG---ATGGAGTATCTGGCTATGAAAACTGATCCC--GAACCAACCCAAT-TGATTAA...\n",
      "****Alignment****\n",
      "sequence: gi|349709091|emb|FQ378501.1| Vitis vinifera clone SS0AEB13YG07\n",
      "length: 834\n",
      "e-value: 6.82445e-83\n",
      "TGAACAGAAAATGGGGAGAGAAATGAAGTACTTGGCCATGAAAACTGATCAATTGGCCGTGGCTAATATGATCGA...\n",
      "||||  ||||||||||||    ||| ||||  |||| |||||||||||||    |  |    | ||| ||||  |...\n",
      "TGAAACGAAAATGGGGAGG---ATGGAGTATCTGGCTATGAAAACTGATCCC--GAACCAACCCAAT-TGATTAA...\n",
      "****Alignment****\n",
      "sequence: gi|1220094463|ref|XM_021978417.1| PREDICTED: Prunus avium cold-regulated 413 plasma membrane protein 2-like (LOC110773902), mRNA\n",
      "length: 896\n",
      "e-value: 2.38197e-82\n",
      "TGATCGATTCCGATATCAATGAGCTTAAAATGGCAACAATGAGGCTCATCAATGATGCTAGTATGCTCGGTCATT...\n",
      "||||  |||| || |||||||| || || || ||| | | ||  |||||||| ||||| | || ||| |||   |...\n",
      "TGATAAATTCAGACATCAATGATCTCAAGATTGCAGCCAAGAAACTCATCAAAGATGCCACTAAGCTTGGTGGGT...\n",
      "****Alignment****\n",
      "sequence: gi|1220047144|ref|XM_021953815.1| PREDICTED: Prunus avium cold-regulated 413 plasma membrane protein 2-like (LOC110753022), mRNA\n",
      "length: 894\n",
      "e-value: 2.38197e-82\n",
      "TGATCGATTCCGATATCAATGAGCTTAAAATGGCAACAATGAGGCTCATCAATGATGCTAGTATGCTCGGTCATT...\n",
      "||||  |||| || |||||||| || || || ||| | | ||  |||||||| ||||| | || ||| |||   |...\n",
      "TGATAAATTCAGACATCAATGATCTCAAGATTGCAGCCAAGAAACTCATCAAAGATGCCACTAAGCTTGGTGGGT...\n",
      "****Alignment****\n",
      "sequence: gi|1216289774|ref|XM_021774063.1| PREDICTED: Manihot esculenta cold-regulated 413 plasma membrane protein 2-like (LOC110627712), mRNA\n",
      "length: 988\n",
      "e-value: 2.38197e-82\n",
      "GAAAATGGGGAGAGAAATGAAGTACTTGGCCATGAAAACTGATCAATT---GGCCGTGGCTAATATGATCGATTC...\n",
      "||||||||||||    ||  ||||||||   ||||  ||||||||| |   |||||      || ||||  | ||...\n",
      "GAAAATGGGGAGG---ATTGAGTACTTGAAAATGAGTACTGATCAAGTAAAGGCCG------ATTTGATTCAATC...\n",
      "****Alignment****\n",
      "sequence: gi|1102738967|ref|XM_010256725.2| PREDICTED: Nelumbo nucifera cold-regulated 413 plasma membrane protein 2 (LOC104595819), mRNA\n",
      "length: 901\n",
      "e-value: 8.31388e-82\n",
      "AAAATGGGGAGAGAAATGAAGTACTTGGCCATGAAAACTGATCAATTGGCCGTGGCTAATATGATCGATTCCGAT...\n",
      "|||||||||||    ||  ||||  ||||||||||||||||||   || |    |   |  ||||   |||||| ...\n",
      "AAAATGGGGAGG---ATTCAGTATCTGGCCATGAAAACTGATCCGATGACAACCG---AGTTGATTAGTTCCGAC...\n",
      "****Alignment****\n",
      "sequence: gi|1365972081|ref|XM_024329450.1| PREDICTED: Rosa chinensis cold-regulated 413 plasma membrane protein 2-like (LOC112190036), mRNA\n",
      "length: 941\n",
      "e-value: 3.53515e-80\n",
      "TTGGCCATGAAAACTGATCAATTGGCCGTGGCTAATATGATCGATTCCGATATCAATGAGCTTAAAATGGCAACA...\n",
      "||||| ||||| ||||| | | | || |   |  |  ||||  | || ||||||||||||||||| || ||  | ...\n",
      "TTGGCTATGAAGACTGACCCAGTTGCGGCCACCGAGTTGATGAACTCTGATATCAATGAGCTTAAGATTGCGGCC...\n",
      "****Alignment****\n",
      "sequence: gi|1216294338|ref|XM_021776478.1| PREDICTED: Manihot esculenta cold-regulated 413 plasma membrane protein 2-like (LOC110629490), mRNA\n",
      "length: 920\n",
      "e-value: 4.3067e-79\n",
      "AGTACTTGGCCATGAAAACTGATCAATTG---GCCGTGGCTAATATGATCGATTCCGATATCAATGAGCTTAAAA...\n",
      "||||||||   ||||  ||||||||| |    ||||      || |||||   || ||| |||||||||| ||  ...\n",
      "AGTACTTGAAAATGAGTACTGATCAAGTAAAAGCCG------ATTTGATCCGGTCTGATCTCAATGAGCTCAAGG...\n",
      "****Alignment****\n",
      "sequence: gi|1344085131|ref|XM_024070874.1| PREDICTED: Quercus suber cold-regulated 413 plasma membrane protein 2-like (LOC112038064), mRNA\n",
      "length: 1178\n",
      "e-value: 1.50319e-78\n",
      "AATGGGGAGAGAAATGAAGTACTTGGCCATGAAAACTGATCAATTGGCCGTGGCTAATATGATCGATTCCGATAT...\n",
      "|||||||||   ||||   || ||||| ||||||||||||| |    |   ||   || | ||| | || |||||...\n",
      "AATGGGGAGG--AATGGC-TATTTGGCTATGAAAACTGATCCAGCCACTCAGG---ATCTCATCAACTCTGATAT...\n",
      "****Alignment****\n",
      "sequence: gi|1279078053|ref|XM_022987279.1| PREDICTED: Olea europaea var. sylvestris cold-regulated 413 plasma membrane protein 2-like (LOC111366541), transcript variant X2, mRNA\n",
      "length: 832\n",
      "e-value: 1.50319e-78\n",
      "AATGGGGAGAGAAATGAAGTACTTGGCCATGAAAACTGATCAATTGGCCGTGGCTAATATGATCGATTCCGATAT...\n",
      "||||||||||   ||  | || ||||| ||||| || ||||||    | | ||  ||| || || |||| ||| |...\n",
      "AATGGGGAGA---ATCGACTATTTGGCTATGAAGACAGATCAAGAAACGGCGG--AAT-TGCTCAATTCAGATTT...\n",
      "****Alignment****\n",
      "sequence: gi|1279078051|ref|XM_022987278.1| PREDICTED: Olea europaea var. sylvestris cold-regulated 413 plasma membrane protein 2-like (LOC111366541), transcript variant X1, mRNA\n",
      "length: 883\n",
      "e-value: 1.50319e-78\n",
      "AATGGGGAGAGAAATGAAGTACTTGGCCATGAAAACTGATCAATTGGCCGTGGCTAATATGATCGATTCCGATAT...\n",
      "||||||||||   ||  | || ||||| ||||| || ||||||    | | ||  ||| || || |||| ||| |...\n",
      "AATGGGGAGA---ATCGACTATTTGGCTATGAAGACAGATCAAGAAACGGCGG--AAT-TGCTCAATTCAGATTT...\n",
      "****Alignment****\n",
      "sequence: gi|1027112245|ref|XM_008243375.2| PREDICTED: Prunus mume cold-regulated 413 plasma membrane protein 2-like (LOC103340011), mRNA\n",
      "length: 932\n",
      "e-value: 1.50319e-78\n",
      "TGATCGATTCCGATATCAATGAGCTTAAAATGGCAACAATGAGGCTCATCAATGATGCTAGTATGCTCGGTCATT...\n",
      "||||  |||| || |||||||| || || || ||| | | ||  |||||||| ||||| | || ||| |||   |...\n",
      "TGATAAATTCAGACATCAATGATCTCAAGATTGCAGCCAAGAAACTCATCAAAGATGCCACTAAGCTTGGTGGGT...\n",
      "****Alignment****\n",
      "sequence: gi|1216963201|ref|XM_021822463.1| PREDICTED: Hevea brasiliensis cold-regulated 413 plasma membrane protein 2-like (LOC110663212), transcript variant X1, mRNA\n",
      "length: 1307\n",
      "e-value: 1.83125e-77\n",
      "ATATGATCGATTCCGATATCAATGAGCTTAAAATGGCAACAATGAGGCTCATCAATGATGCTAGTATGCTCGGTC...\n",
      "|| ||||  | || ||| |||||||||| ||  | ||  | | | | ||| | |||||||| | || ||| ||| ...\n",
      "ATTTGATTCAGTCTGATCTCAATGAGCTCAACGTTGCTGCCAAGCGACTCCTAAATGATGCCACTAGGCTTGGTG...\n",
      "****Alignment****\n",
      "sequence: gi|1039849994|ref|XM_008339966.2| PREDICTED: Malus x domestica cold-regulated 413 plasma membrane protein 2 (LOC103401258), mRNA\n",
      "length: 1055\n",
      "e-value: 7.78669e-76\n",
      "TGATCGATTCCGATATCAATGAGCTTAAAATGGCAACAATGAGGCTCATCAATGATGCTAGTATGCTCGGTCATT...\n",
      "|||| ||||| |||||||| ||||| || || ||| | | ||| ||||||| |||||| |  |  || |||  ||...\n",
      "TGATAGATTCAGATATCAAAGAGCTCAAGATTGCAGCCAAGAGACTCATCAGTGATGCCACCAARCTTGGTGGTT...\n"
     ]
    }
   ],
   "source": [
    "for alignment in blast_record.alignments:\n",
    "    for hsp in alignment.hsps:\n",
    "        if hsp.expect < E_VALUE_THRESH:\n",
    "            print(\"****Alignment****\")\n",
    "            print(\"sequence:\", alignment.title)\n",
    "            print(\"length:\", alignment.length)\n",
    "            print(\"e-value:\", hsp.expect)\n",
    "            print(hsp.query[0:75] + \"...\")\n",
    "            print(hsp.match[0:75] + \"...\")\n",
    "            print(hsp.sbjct[0:75] + \"...\")"
   ]
  },
  {
   "cell_type": "code",
   "execution_count": 14,
   "metadata": {},
   "outputs": [
    {
     "name": "stdout",
     "output_type": "stream",
     "text": [
      "Program: blastn (2.8.1+)\n",
      "  Query: BE037100.1 (1111)\n",
      "         MP14H09 MP Mesembryanthemum crystallinum cDNA 5' similar to cold ac...\n",
      " Target: nt\n",
      "   Hits: ----  -----  ----------------------------------------------------------\n",
      "            #  # HSP  ID + description\n",
      "         ----  -----  ----------------------------------------------------------\n",
      "            0      1  gi|1219041180|ref|XM_021875076.1|  PREDICTED: Chenopodi...\n",
      "            1      1  gi|1226796956|ref|XM_021992092.1|  PREDICTED: Spinacia ...\n",
      "            2      1  gi|731339628|ref|XM_010682658.1|  PREDICTED: Beta vulga...\n",
      "            3      1  gi|1389679838|ref|XM_016034586.2|  PREDICTED: Ziziphus ...\n",
      "            4      1  gi|1098839281|ref|XM_018970776.1|  PREDICTED: Juglans r...\n",
      "            5      1  gi|1389549632|ref|XM_006466626.3|  PREDICTED: Citrus si...\n",
      "            6      1  gi|1389549631|ref|XM_006466625.2|  PREDICTED: Citrus si...\n",
      "            7      1  gi|1389549630|ref|XM_006466624.3|  PREDICTED: Citrus si...\n",
      "            8      1  gi|1389549629|ref|XM_006466623.3|  PREDICTED: Citrus si...\n",
      "            9      1  gi|1389549624|ref|XM_025094967.1|  PREDICTED: Citrus si...\n",
      "           10      1  gi|1350315641|ref|XM_024180293.1|  PREDICTED: Citrus cl...\n",
      "           11      1  gi|1350315638|ref|XM_006425719.2|  PREDICTED: Citrus cl...\n",
      "           12      1  gi|1350315636|ref|XM_006425716.2|  PREDICTED: Citrus cl...\n",
      "           13      1  gi|1350315634|ref|XM_006425717.2|  PREDICTED: Citrus cl...\n",
      "           14      1  gi|1204884098|ref|XM_021445554.1|  PREDICTED: Herrania ...\n",
      "           15      1  gi|1227938481|ref|XM_022049453.1|  PREDICTED: Carica pa...\n",
      "           16      1  gi|1063463253|ref|XM_007047033.2|  PREDICTED: Theobroma...\n",
      "           17      1  gi|1063463252|ref|XM_007047032.2|  PREDICTED: Theobroma...\n",
      "           18      1  gi|1269881407|ref|XM_022895605.1|  PREDICTED: Durio zib...\n",
      "           19      1  gi|1269881405|ref|XM_022895604.1|  PREDICTED: Durio zib...\n",
      "           20      1  gi|1269881403|ref|XM_022895603.1|  PREDICTED: Durio zib...\n",
      "           21      1  gi|1098846744|ref|XM_018974650.1|  PREDICTED: Juglans r...\n",
      "           22      1  gi|1187397285|gb|KX009413.1|  Santalum album COR413-PM2...\n",
      "           23      1  gi|1079253150|ref|XM_009343631.2|  PREDICTED: Pyrus x b...\n",
      "           24      1  gi|1079253149|ref|XM_009343644.2|  PREDICTED: Pyrus x b...\n",
      "           25      1  gi|1079239703|ref|XM_009378191.2|  PREDICTED: Pyrus x b...\n",
      "           26      1  gi|1350280614|ref|XM_024170292.1|  PREDICTED: Morus not...\n",
      "           27      1  gi|743838297|ref|XM_011027373.1|  PREDICTED: Populus eu...\n",
      "           28      1  gi|743838293|ref|XM_011027372.1|  PREDICTED: Populus eu...\n",
      "           29      1  gi|1216950057|ref|XM_021815585.1|  PREDICTED: Hevea bra...\n",
      "           ~~~\n",
      "           47      1  gi|1027112245|ref|XM_008243375.2|  PREDICTED: Prunus mu...\n",
      "           48      1  gi|1216963201|ref|XM_021822463.1|  PREDICTED: Hevea bra...\n",
      "           49      1  gi|1039849994|ref|XM_008339966.2|  PREDICTED: Malus x d...\n"
     ]
    }
   ],
   "source": [
    "from Bio import SearchIO\n",
    "blast_qresult = SearchIO.read(\"my_blast.xml\", \"blast-xml\")\n",
    "print(blast_qresult)"
   ]
  },
  {
   "cell_type": "code",
   "execution_count": 16,
   "metadata": {},
   "outputs": [
    {
     "name": "stdout",
     "output_type": "stream",
     "text": [
      "Query: BE037100.1\n",
      "       MP14H09 MP Mesembryanthemum crystallinum cDNA 5' similar to cold accl...\n",
      "  Hit: gi|1219041180|ref|XM_021875076.1| (1173)\n",
      "       PREDICTED: Chenopodium quinoa cold-regulated 413 plasma membrane prot...\n",
      " HSPs: ----  --------  ---------  ------  ---------------  ---------------------\n",
      "          #   E-value  Bit score    Span      Query range              Hit range\n",
      "       ----  --------  ---------  ------  ---------------  ---------------------\n",
      "          0  1.2e-117     435.90     624         [58:678]              [277:901]\n",
      "Query: BE037100.1\n",
      "       MP14H09 MP Mesembryanthemum crystallinum cDNA 5' similar to cold accl...\n",
      "  Hit: gi|1226796956|ref|XM_021992092.1| (672)\n",
      "       PREDICTED: Spinacia oleracea cold-regulated 413 plasma membrane prote...\n",
      " HSPs: ----  --------  ---------  ------  ---------------  ---------------------\n",
      "          #   E-value  Bit score    Span      Query range              Hit range\n",
      "       ----  --------  ---------  ------  ---------------  ---------------------\n",
      "          0  7.8e-114     423.27     590         [62:649]               [10:600]\n",
      "Query: BE037100.1\n",
      "       MP14H09 MP Mesembryanthemum crystallinum cDNA 5' similar to cold accl...\n",
      "  Hit: gi|731339628|ref|XM_010682658.1| (847)\n",
      "       PREDICTED: Beta vulgaris subsp. vulgaris cold-regulated 413 plasma me...\n",
      " HSPs: ----  --------  ---------  ------  ---------------  ---------------------\n",
      "          #   E-value  Bit score    Span      Query range              Hit range\n",
      "       ----  --------  ---------  ------  ---------------  ---------------------\n",
      "          0  2.1e-108     405.24     597         [86:679]               [80:677]\n",
      "Query: BE037100.1\n",
      "       MP14H09 MP Mesembryanthemum crystallinum cDNA 5' similar to cold accl...\n",
      "  Hit: gi|1389679838|ref|XM_016034586.2| (946)\n",
      "       PREDICTED: Ziziphus jujuba cold-regulated 413 plasma membrane protein...\n",
      " HSPs: ----  --------  ---------  ------  ---------------  ---------------------\n",
      "          #   E-value  Bit score    Span      Query range              Hit range\n",
      "       ----  --------  ---------  ------  ---------------  ---------------------\n",
      "          0  1.1e-105     397.13     596         [62:655]              [169:756]\n",
      "Query: BE037100.1\n",
      "       MP14H09 MP Mesembryanthemum crystallinum cDNA 5' similar to cold accl...\n",
      "  Hit: gi|1098839281|ref|XM_018970776.1| (977)\n",
      "       PREDICTED: Juglans regia cold-regulated 413 plasma membrane protein 2...\n",
      " HSPs: ----  --------  ---------  ------  ---------------  ---------------------\n",
      "          #   E-value  Bit score    Span      Query range              Hit range\n",
      "       ----  --------  ---------  ------  ---------------  ---------------------\n",
      "          0  1.6e-103     389.01     602         [64:655]              [190:787]\n",
      "Query: BE037100.1\n",
      "       MP14H09 MP Mesembryanthemum crystallinum cDNA 5' similar to cold accl...\n",
      "  Hit: gi|1389549632|ref|XM_006466626.3| (880)\n",
      "       PREDICTED: Citrus sinensis cold-regulated 413 plasma membrane protein...\n",
      " HSPs: ----  --------  ---------  ------  ---------------  ---------------------\n",
      "          #   E-value  Bit score    Span      Query range              Hit range\n",
      "       ----  --------  ---------  ------  ---------------  ---------------------\n",
      "          0   1.2e-98     373.68     596         [63:655]               [95:684]\n",
      "Query: BE037100.1\n",
      "       MP14H09 MP Mesembryanthemum crystallinum cDNA 5' similar to cold accl...\n",
      "  Hit: gi|1389549631|ref|XM_006466625.2| (946)\n",
      "       PREDICTED: Citrus sinensis cold-regulated 413 plasma membrane protein...\n",
      " HSPs: ----  --------  ---------  ------  ---------------  ---------------------\n",
      "          #   E-value  Bit score    Span      Query range              Hit range\n",
      "       ----  --------  ---------  ------  ---------------  ---------------------\n",
      "          0   1.2e-98     373.68     596         [63:655]              [161:750]\n",
      "Query: BE037100.1\n",
      "       MP14H09 MP Mesembryanthemum crystallinum cDNA 5' similar to cold accl...\n",
      "  Hit: gi|1389549630|ref|XM_006466624.3| (956)\n",
      "       PREDICTED: Citrus sinensis cold-regulated 413 plasma membrane protein...\n",
      " HSPs: ----  --------  ---------  ------  ---------------  ---------------------\n",
      "          #   E-value  Bit score    Span      Query range              Hit range\n",
      "       ----  --------  ---------  ------  ---------------  ---------------------\n",
      "          0   1.2e-98     373.68     596         [63:655]              [171:760]\n",
      "Query: BE037100.1\n",
      "       MP14H09 MP Mesembryanthemum crystallinum cDNA 5' similar to cold accl...\n",
      "  Hit: gi|1389549629|ref|XM_006466623.3| (1014)\n",
      "       PREDICTED: Citrus sinensis cold-regulated 413 plasma membrane protein...\n",
      " HSPs: ----  --------  ---------  ------  ---------------  ---------------------\n",
      "          #   E-value  Bit score    Span      Query range              Hit range\n",
      "       ----  --------  ---------  ------  ---------------  ---------------------\n",
      "          0   1.2e-98     373.68     596         [63:655]              [229:818]\n",
      "Query: BE037100.1\n",
      "       MP14H09 MP Mesembryanthemum crystallinum cDNA 5' similar to cold accl...\n",
      "  Hit: gi|1389549624|ref|XM_025094967.1| (978)\n",
      "       PREDICTED: Citrus sinensis cold-regulated 413 plasma membrane protein...\n",
      " HSPs: ----  --------  ---------  ------  ---------------  ---------------------\n",
      "          #   E-value  Bit score    Span      Query range              Hit range\n",
      "       ----  --------  ---------  ------  ---------------  ---------------------\n",
      "          0   1.2e-98     373.68     596         [63:655]              [193:782]\n",
      "Query: BE037100.1\n",
      "       MP14H09 MP Mesembryanthemum crystallinum cDNA 5' similar to cold accl...\n",
      "  Hit: gi|1350315641|ref|XM_024180293.1| (868)\n",
      "       PREDICTED: Citrus clementina cold-regulated 413 plasma membrane prote...\n",
      " HSPs: ----  --------  ---------  ------  ---------------  ---------------------\n",
      "          #   E-value  Bit score    Span      Query range              Hit range\n",
      "       ----  --------  ---------  ------  ---------------  ---------------------\n",
      "          0   1.2e-98     373.68     596         [63:655]              [106:695]\n",
      "Query: BE037100.1\n",
      "       MP14H09 MP Mesembryanthemum crystallinum cDNA 5' similar to cold accl...\n",
      "  Hit: gi|1350315638|ref|XM_006425719.2| (893)\n",
      "       PREDICTED: Citrus clementina cold-regulated 413 plasma membrane prote...\n",
      " HSPs: ----  --------  ---------  ------  ---------------  ---------------------\n",
      "          #   E-value  Bit score    Span      Query range              Hit range\n",
      "       ----  --------  ---------  ------  ---------------  ---------------------\n",
      "          0   1.2e-98     373.68     596         [63:655]              [131:720]\n",
      "Query: BE037100.1\n",
      "       MP14H09 MP Mesembryanthemum crystallinum cDNA 5' similar to cold accl...\n",
      "  Hit: gi|1350315636|ref|XM_006425716.2| (881)\n",
      "       PREDICTED: Citrus clementina cold-regulated 413 plasma membrane prote...\n",
      " HSPs: ----  --------  ---------  ------  ---------------  ---------------------\n",
      "          #   E-value  Bit score    Span      Query range              Hit range\n",
      "       ----  --------  ---------  ------  ---------------  ---------------------\n",
      "          0   1.2e-98     373.68     596         [63:655]              [119:708]\n",
      "Query: BE037100.1\n",
      "       MP14H09 MP Mesembryanthemum crystallinum cDNA 5' similar to cold accl...\n",
      "  Hit: gi|1350315634|ref|XM_006425717.2| (952)\n",
      "       PREDICTED: Citrus clementina cold-regulated 413 plasma membrane prote...\n",
      " HSPs: ----  --------  ---------  ------  ---------------  ---------------------\n",
      "          #   E-value  Bit score    Span      Query range              Hit range\n",
      "       ----  --------  ---------  ------  ---------------  ---------------------\n",
      "          0   1.2e-98     373.68     596         [63:655]              [190:779]\n",
      "Query: BE037100.1\n",
      "       MP14H09 MP Mesembryanthemum crystallinum cDNA 5' similar to cold accl...\n",
      "  Hit: gi|1204884098|ref|XM_021445554.1| (905)\n",
      "       PREDICTED: Herrania umbratica cold-regulated 413 plasma membrane prot...\n",
      " HSPs: ----  --------  ---------  ------  ---------------  ---------------------\n",
      "          #   E-value  Bit score    Span      Query range              Hit range\n",
      "       ----  --------  ---------  ------  ---------------  ---------------------\n",
      "          0   1.2e-98     373.68     594         [63:655]               [16:602]\n",
      "Query: BE037100.1\n",
      "       MP14H09 MP Mesembryanthemum crystallinum cDNA 5' similar to cold accl...\n",
      "  Hit: gi|1227938481|ref|XM_022049453.1| (1009)\n",
      "       PREDICTED: Carica papaya cold-regulated 413 plasma membrane protein 2...\n",
      " HSPs: ----  --------  ---------  ------  ---------------  ---------------------\n",
      "          #   E-value  Bit score    Span      Query range              Hit range\n",
      "       ----  --------  ---------  ------  ---------------  ---------------------\n",
      "          0   5.2e-97     367.37     595         [60:655]               [84:673]\n",
      "Query: BE037100.1\n",
      "       MP14H09 MP Mesembryanthemum crystallinum cDNA 5' similar to cold accl...\n",
      "  Hit: gi|1063463253|ref|XM_007047033.2| (1071)\n",
      "       PREDICTED: Theobroma cacao cold-regulated 413 plasma membrane protein...\n",
      " HSPs: ----  --------  ---------  ------  ---------------  ---------------------\n",
      "          #   E-value  Bit score    Span      Query range              Hit range\n",
      "       ----  --------  ---------  ------  ---------------  ---------------------\n",
      "          0   2.2e-95     362.86     605         [53:655]              [226:823]\n",
      "Query: BE037100.1\n",
      "       MP14H09 MP Mesembryanthemum crystallinum cDNA 5' similar to cold accl...\n",
      "  Hit: gi|1063463252|ref|XM_007047032.2| (1065)\n",
      "       PREDICTED: Theobroma cacao cold-regulated 413 plasma membrane protein...\n",
      " HSPs: ----  --------  ---------  ------  ---------------  ---------------------\n",
      "          #   E-value  Bit score    Span      Query range              Hit range\n",
      "       ----  --------  ---------  ------  ---------------  ---------------------\n",
      "          0   2.2e-95     362.86     605         [53:655]              [220:817]\n",
      "Query: BE037100.1\n",
      "       MP14H09 MP Mesembryanthemum crystallinum cDNA 5' similar to cold accl...\n",
      "  Hit: gi|1269881407|ref|XM_022895605.1| (1069)\n",
      "       PREDICTED: Durio zibethinus cold-regulated 413 plasma membrane protei...\n",
      " HSPs: ----  --------  ---------  ------  ---------------  ---------------------\n",
      "          #   E-value  Bit score    Span      Query range              Hit range\n",
      "       ----  --------  ---------  ------  ---------------  ---------------------\n",
      "          0   7.8e-95     361.06     593         [63:655]              [246:832]\n",
      "Query: BE037100.1\n",
      "       MP14H09 MP Mesembryanthemum crystallinum cDNA 5' similar to cold accl...\n",
      "  Hit: gi|1269881405|ref|XM_022895604.1| (1091)\n",
      "       PREDICTED: Durio zibethinus cold-regulated 413 plasma membrane protei...\n",
      " HSPs: ----  --------  ---------  ------  ---------------  ---------------------\n",
      "          #   E-value  Bit score    Span      Query range              Hit range\n",
      "       ----  --------  ---------  ------  ---------------  ---------------------\n",
      "          0   7.8e-95     361.06     593         [63:655]              [268:854]\n",
      "Query: BE037100.1\n",
      "       MP14H09 MP Mesembryanthemum crystallinum cDNA 5' similar to cold accl...\n",
      "  Hit: gi|1269881403|ref|XM_022895603.1| (1072)\n",
      "       PREDICTED: Durio zibethinus cold-regulated 413 plasma membrane protei...\n",
      " HSPs: ----  --------  ---------  ------  ---------------  ---------------------\n",
      "          #   E-value  Bit score    Span      Query range              Hit range\n",
      "       ----  --------  ---------  ------  ---------------  ---------------------\n",
      "          0   7.8e-95     361.06     593         [63:655]              [249:835]\n",
      "Query: BE037100.1\n",
      "       MP14H09 MP Mesembryanthemum crystallinum cDNA 5' similar to cold accl...\n",
      "  Hit: gi|1098846744|ref|XM_018974650.1| (975)\n",
      "       PREDICTED: Juglans regia cold-regulated 413 plasma membrane protein 2...\n",
      " HSPs: ----  --------  ---------  ------  ---------------  ---------------------\n",
      "          #   E-value  Bit score    Span      Query range              Hit range\n",
      "       ----  --------  ---------  ------  ---------------  ---------------------\n",
      "          0   1.2e-92     353.85     593         [64:655]               [72:657]\n",
      "Query: BE037100.1\n",
      "       MP14H09 MP Mesembryanthemum crystallinum cDNA 5' similar to cold accl...\n",
      "  Hit: gi|1187397285|gb|KX009413.1| (837)\n",
      "       Santalum album COR413-PM2 mRNA, complete cds\n",
      " HSPs: ----  --------  ---------  ------  ---------------  ---------------------\n",
      "          #   E-value  Bit score    Span      Query range              Hit range\n",
      "       ----  --------  ---------  ------  ---------------  ---------------------\n",
      "          0     4e-92     351.14     595         [64:658]               [24:612]\n",
      "Query: BE037100.1\n",
      "       MP14H09 MP Mesembryanthemum crystallinum cDNA 5' similar to cold accl...\n",
      "  Hit: gi|1079253150|ref|XM_009343631.2| (861)\n",
      "       PREDICTED: Pyrus x bretschneideri cold-regulated 413 plasma membrane ...\n",
      " HSPs: ----  --------  ---------  ------  ---------------  ---------------------\n",
      "          #   E-value  Bit score    Span      Query range              Hit range\n",
      "       ----  --------  ---------  ------  ---------------  ---------------------\n",
      "          0   2.1e-89     342.12     533        [123:655]              [150:682]\n",
      "Query: BE037100.1\n",
      "       MP14H09 MP Mesembryanthemum crystallinum cDNA 5' similar to cold accl...\n",
      "  Hit: gi|1079253149|ref|XM_009343644.2| (876)\n",
      "       PREDICTED: Pyrus x bretschneideri cold-regulated 413 plasma membrane ...\n",
      " HSPs: ----  --------  ---------  ------  ---------------  ---------------------\n",
      "          #   E-value  Bit score    Span      Query range              Hit range\n",
      "       ----  --------  ---------  ------  ---------------  ---------------------\n",
      "          0   2.1e-89     342.12     533        [123:655]              [150:682]\n",
      "Query: BE037100.1\n",
      "       MP14H09 MP Mesembryanthemum crystallinum cDNA 5' similar to cold accl...\n",
      "  Hit: gi|1079239703|ref|XM_009378191.2| (885)\n",
      "       PREDICTED: Pyrus x bretschneideri cold-regulated 413 plasma membrane ...\n",
      " HSPs: ----  --------  ---------  ------  ---------------  ---------------------\n",
      "          #   E-value  Bit score    Span      Query range              Hit range\n",
      "       ----  --------  ---------  ------  ---------------  ---------------------\n",
      "          0   2.1e-89     342.12     533        [123:655]              [159:691]\n",
      "Query: BE037100.1\n",
      "       MP14H09 MP Mesembryanthemum crystallinum cDNA 5' similar to cold accl...\n",
      "  Hit: gi|1350280614|ref|XM_024170292.1| (1020)\n",
      "       PREDICTED: Morus notabilis cold-regulated 413 plasma membrane protein...\n",
      " HSPs: ----  --------  ---------  ------  ---------------  ---------------------\n",
      "          #   E-value  Bit score    Span      Query range              Hit range\n",
      "       ----  --------  ---------  ------  ---------------  ---------------------\n",
      "          0   7.3e-89     341.22     593         [63:655]              [337:920]\n",
      "Query: BE037100.1\n",
      "       MP14H09 MP Mesembryanthemum crystallinum cDNA 5' similar to cold accl...\n",
      "  Hit: gi|743838297|ref|XM_011027373.1| (1132)\n",
      "       PREDICTED: Populus euphratica cold-regulated 413 plasma membrane prot...\n",
      " HSPs: ----  --------  ---------  ------  ---------------  ---------------------\n",
      "          #   E-value  Bit score    Span      Query range              Hit range\n",
      "       ----  --------  ---------  ------  ---------------  ---------------------\n",
      "          0   7.3e-89     340.32     596         [62:655]              [269:859]\n",
      "Query: BE037100.1\n",
      "       MP14H09 MP Mesembryanthemum crystallinum cDNA 5' similar to cold accl...\n",
      "  Hit: gi|743838293|ref|XM_011027372.1| (980)\n",
      "       PREDICTED: Populus euphratica cold-regulated 413 plasma membrane prot...\n",
      " HSPs: ----  --------  ---------  ------  ---------------  ---------------------\n",
      "          #   E-value  Bit score    Span      Query range              Hit range\n",
      "       ----  --------  ---------  ------  ---------------  ---------------------\n",
      "          0   7.3e-89     340.32     596         [62:655]              [117:707]\n",
      "Query: BE037100.1\n",
      "       MP14H09 MP Mesembryanthemum crystallinum cDNA 5' similar to cold accl...\n",
      "  Hit: gi|1216950057|ref|XM_021815585.1| (1073)\n",
      "       PREDICTED: Hevea brasiliensis cold-regulated 413 plasma membrane prot...\n",
      " HSPs: ----  --------  ---------  ------  ---------------  ---------------------\n",
      "          #   E-value  Bit score    Span      Query range              Hit range\n",
      "       ----  --------  ---------  ------  ---------------  ---------------------\n",
      "          0   8.9e-88     336.71     595         [63:655]              [207:793]\n",
      "Query: BE037100.1\n",
      "       MP14H09 MP Mesembryanthemum crystallinum cDNA 5' similar to cold accl...\n",
      "  Hit: gi|1216950055|ref|XM_021815584.1| (1024)\n",
      "       PREDICTED: Hevea brasiliensis cold-regulated 413 plasma membrane prot...\n",
      " HSPs: ----  --------  ---------  ------  ---------------  ---------------------\n",
      "          #   E-value  Bit score    Span      Query range              Hit range\n",
      "       ----  --------  ---------  ------  ---------------  ---------------------\n",
      "          0   8.9e-88     336.71     595         [63:655]              [201:787]\n",
      "Query: BE037100.1\n",
      "       MP14H09 MP Mesembryanthemum crystallinum cDNA 5' similar to cold accl...\n",
      "  Hit: gi|1375871125|ref|XM_024605027.1| (1130)\n",
      "       PREDICTED: Populus trichocarpa cold-regulated 413 plasma membrane pro...\n",
      " HSPs: ----  --------  ---------  ------  ---------------  ---------------------\n",
      "          #   E-value  Bit score    Span      Query range              Hit range\n",
      "       ----  --------  ---------  ------  ---------------  ---------------------\n",
      "          0   3.1e-87     335.81     596         [62:655]              [266:856]\n",
      "Query: BE037100.1\n",
      "       MP14H09 MP Mesembryanthemum crystallinum cDNA 5' similar to cold accl...\n",
      "  Hit: gi|1162571919|ref|XM_020568695.1| (929)\n",
      "       PREDICTED: Prunus persica cold-regulated 413 plasma membrane protein ...\n",
      " HSPs: ----  --------  ---------  ------  ---------------  ---------------------\n",
      "          #   E-value  Bit score    Span      Query range              Hit range\n",
      "       ----  --------  ---------  ------  ---------------  ---------------------\n",
      "          0   4.6e-85     328.60     533        [123:655]              [274:806]\n",
      "Query: BE037100.1\n",
      "       MP14H09 MP Mesembryanthemum crystallinum cDNA 5' similar to cold accl...\n",
      "  Hit: gi|1162571918|ref|XM_007202530.2| (811)\n",
      "       PREDICTED: Prunus persica cold-regulated 413 plasma membrane protein ...\n",
      " HSPs: ----  --------  ---------  ------  ---------------  ---------------------\n",
      "          #   E-value  Bit score    Span      Query range              Hit range\n",
      "       ----  --------  ---------  ------  ---------------  ---------------------\n",
      "          0   4.6e-85     328.60     533        [123:655]              [156:688]\n",
      "Query: BE037100.1\n",
      "       MP14H09 MP Mesembryanthemum crystallinum cDNA 5' similar to cold accl...\n",
      "  Hit: gi|1229761331|ref|XM_022277554.1| (850)\n",
      "       PREDICTED: Momordica charantia cold-regulated 413 plasma membrane pro...\n",
      " HSPs: ----  --------  ---------  ------  ---------------  ---------------------\n",
      "          #   E-value  Bit score    Span      Query range              Hit range\n",
      "       ----  --------  ---------  ------  ---------------  ---------------------\n",
      "          0   1.6e-84     325.89     528        [129:655]              [123:649]\n",
      "Query: BE037100.1\n",
      "       MP14H09 MP Mesembryanthemum crystallinum cDNA 5' similar to cold accl...\n",
      "  Hit: gi|764593175|ref|XM_004300526.2| (1105)\n",
      "       PREDICTED: Fragaria vesca subsp. vesca cold-regulated 413 plasma memb...\n",
      " HSPs: ----  --------  ---------  ------  ---------------  ---------------------\n",
      "          #   E-value  Bit score    Span      Query range              Hit range\n",
      "       ----  --------  ---------  ------  ---------------  ---------------------\n",
      "          0     2e-83     323.19     596         [65:655]              [313:900]\n",
      "Query: BE037100.1\n",
      "       MP14H09 MP Mesembryanthemum crystallinum cDNA 5' similar to cold accl...\n",
      "  Hit: gi|1104507484|ref|XM_002274845.4| (893)\n",
      "       PREDICTED: Vitis vinifera cold-regulated 413 plasma membrane protein ...\n",
      " HSPs: ----  --------  ---------  ------  ---------------  ---------------------\n",
      "          #   E-value  Bit score    Span      Query range              Hit range\n",
      "       ----  --------  ---------  ------  ---------------  ---------------------\n",
      "          0   6.8e-83     321.38     601         [55:655]               [79:673]\n",
      "Query: BE037100.1\n",
      "       MP14H09 MP Mesembryanthemum crystallinum cDNA 5' similar to cold accl...\n",
      "  Hit: gi|349709091|emb|FQ378501.1| (834)\n",
      "       Vitis vinifera clone SS0AEB13YG07\n",
      " HSPs: ----  --------  ---------  ------  ---------------  ---------------------\n",
      "          #   E-value  Bit score    Span      Query range              Hit range\n",
      "       ----  --------  ---------  ------  ---------------  ---------------------\n",
      "          0   6.8e-83     321.38     601         [55:655]               [58:652]\n",
      "Query: BE037100.1\n",
      "       MP14H09 MP Mesembryanthemum crystallinum cDNA 5' similar to cold accl...\n",
      "  Hit: gi|1220094463|ref|XM_021978417.1| (896)\n",
      "       PREDICTED: Prunus avium cold-regulated 413 plasma membrane protein 2-...\n",
      " HSPs: ----  --------  ---------  ------  ---------------  ---------------------\n",
      "          #   E-value  Bit score    Span      Query range              Hit range\n",
      "       ----  --------  ---------  ------  ---------------  ---------------------\n",
      "          0   2.4e-82     319.58     533        [123:655]              [243:775]\n",
      "Query: BE037100.1\n",
      "       MP14H09 MP Mesembryanthemum crystallinum cDNA 5' similar to cold accl...\n",
      "  Hit: gi|1220047144|ref|XM_021953815.1| (894)\n",
      "       PREDICTED: Prunus avium cold-regulated 413 plasma membrane protein 2-...\n",
      " HSPs: ----  --------  ---------  ------  ---------------  ---------------------\n",
      "          #   E-value  Bit score    Span      Query range              Hit range\n",
      "       ----  --------  ---------  ------  ---------------  ---------------------\n",
      "          0   2.4e-82     319.58     533        [123:655]              [241:773]\n",
      "Query: BE037100.1\n",
      "       MP14H09 MP Mesembryanthemum crystallinum cDNA 5' similar to cold accl...\n",
      "  Hit: gi|1216289774|ref|XM_021774063.1| (988)\n",
      "       PREDICTED: Manihot esculenta cold-regulated 413 plasma membrane prote...\n",
      " HSPs: ----  --------  ---------  ------  ---------------  ---------------------\n",
      "          #   E-value  Bit score    Span      Query range              Hit range\n",
      "       ----  --------  ---------  ------  ---------------  ---------------------\n",
      "          0   2.4e-82     318.68     574         [61:631]              [194:758]\n",
      "Query: BE037100.1\n",
      "       MP14H09 MP Mesembryanthemum crystallinum cDNA 5' similar to cold accl...\n",
      "  Hit: gi|1102738967|ref|XM_010256725.2| (901)\n",
      "       PREDICTED: Nelumbo nucifera cold-regulated 413 plasma membrane protei...\n",
      " HSPs: ----  --------  ---------  ------  ---------------  ---------------------\n",
      "          #   E-value  Bit score    Span      Query range              Hit range\n",
      "       ----  --------  ---------  ------  ---------------  ---------------------\n",
      "          0   8.3e-82     316.88     595         [62:655]              [146:733]\n",
      "Query: BE037100.1\n",
      "       MP14H09 MP Mesembryanthemum crystallinum cDNA 5' similar to cold accl...\n",
      "  Hit: gi|1365972081|ref|XM_024329450.1| (941)\n",
      "       PREDICTED: Rosa chinensis cold-regulated 413 plasma membrane protein ...\n",
      " HSPs: ----  --------  ---------  ------  ---------------  ---------------------\n",
      "          #   E-value  Bit score    Span      Query range              Hit range\n",
      "       ----  --------  ---------  ------  ---------------  ---------------------\n",
      "          0   3.5e-80     311.47     583         [86:667]              [180:762]\n",
      "Query: BE037100.1\n",
      "       MP14H09 MP Mesembryanthemum crystallinum cDNA 5' similar to cold accl...\n",
      "  Hit: gi|1216294338|ref|XM_021776478.1| (920)\n",
      "       PREDICTED: Manihot esculenta cold-regulated 413 plasma membrane prote...\n",
      " HSPs: ----  --------  ---------  ------  ---------------  ---------------------\n",
      "          #   E-value  Bit score    Span      Query range              Hit range\n",
      "       ----  --------  ---------  ------  ---------------  ---------------------\n",
      "          0   4.3e-79     308.76     579         [81:655]              [193:764]\n",
      "Query: BE037100.1\n",
      "       MP14H09 MP Mesembryanthemum crystallinum cDNA 5' similar to cold accl...\n",
      "  Hit: gi|1344085131|ref|XM_024070874.1| (1178)\n",
      "       PREDICTED: Quercus suber cold-regulated 413 plasma membrane protein 2...\n",
      " HSPs: ----  --------  ---------  ------  ---------------  ---------------------\n",
      "          #   E-value  Bit score    Span      Query range              Hit range\n",
      "       ----  --------  ---------  ------  ---------------  ---------------------\n",
      "          0   1.5e-78     306.96     595         [64:655]              [340:925]\n",
      "Query: BE037100.1\n",
      "       MP14H09 MP Mesembryanthemum crystallinum cDNA 5' similar to cold accl...\n",
      "  Hit: gi|1279078053|ref|XM_022987279.1| (832)\n",
      "       PREDICTED: Olea europaea var. sylvestris cold-regulated 413 plasma me...\n",
      " HSPs: ----  --------  ---------  ------  ---------------  ---------------------\n",
      "          #   E-value  Bit score    Span      Query range              Hit range\n",
      "       ----  --------  ---------  ------  ---------------  ---------------------\n",
      "          0   1.5e-78     306.06     573         [64:634]               [72:636]\n",
      "Query: BE037100.1\n",
      "       MP14H09 MP Mesembryanthemum crystallinum cDNA 5' similar to cold accl...\n",
      "  Hit: gi|1279078051|ref|XM_022987278.1| (883)\n",
      "       PREDICTED: Olea europaea var. sylvestris cold-regulated 413 plasma me...\n",
      " HSPs: ----  --------  ---------  ------  ---------------  ---------------------\n",
      "          #   E-value  Bit score    Span      Query range              Hit range\n",
      "       ----  --------  ---------  ------  ---------------  ---------------------\n",
      "          0   1.5e-78     306.06     573         [64:634]              [123:687]\n",
      "Query: BE037100.1\n",
      "       MP14H09 MP Mesembryanthemum crystallinum cDNA 5' similar to cold accl...\n",
      "  Hit: gi|1027112245|ref|XM_008243375.2| (932)\n",
      "       PREDICTED: Prunus mume cold-regulated 413 plasma membrane protein 2-l...\n",
      " HSPs: ----  --------  ---------  ------  ---------------  ---------------------\n",
      "          #   E-value  Bit score    Span      Query range              Hit range\n",
      "       ----  --------  ---------  ------  ---------------  ---------------------\n",
      "          0   1.5e-78     306.06     533        [123:655]              [274:806]\n",
      "Query: BE037100.1\n",
      "       MP14H09 MP Mesembryanthemum crystallinum cDNA 5' similar to cold accl...\n",
      "  Hit: gi|1216963201|ref|XM_021822463.1| (1307)\n",
      "       PREDICTED: Hevea brasiliensis cold-regulated 413 plasma membrane prot...\n",
      " HSPs: ----  --------  ---------  ------  ---------------  ---------------------\n",
      "          #   E-value  Bit score    Span      Query range              Hit range\n",
      "       ----  --------  ---------  ------  ---------------  ---------------------\n",
      "          0   1.8e-77     302.45     536        [120:655]              [270:805]\n",
      "Query: BE037100.1\n",
      "       MP14H09 MP Mesembryanthemum crystallinum cDNA 5' similar to cold accl...\n",
      "  Hit: gi|1039849994|ref|XM_008339966.2| (1055)\n",
      "       PREDICTED: Malus x domestica cold-regulated 413 plasma membrane prote...\n",
      " HSPs: ----  --------  ---------  ------  ---------------  ---------------------\n",
      "          #   E-value  Bit score    Span      Query range              Hit range\n",
      "       ----  --------  ---------  ------  ---------------  ---------------------\n",
      "          0   7.8e-76     297.94     539        [123:655]              [143:681]\n"
     ]
    }
   ],
   "source": [
    "for hit in blast_qresult:\n",
    "    print(hit)"
   ]
  },
  {
   "cell_type": "code",
   "execution_count": 17,
   "metadata": {},
   "outputs": [
    {
     "data": {
      "text/plain": [
       "50"
      ]
     },
     "execution_count": 17,
     "metadata": {},
     "output_type": "execute_result"
    }
   ],
   "source": [
    " len(blast_qresult)"
   ]
  },
  {
   "cell_type": "code",
   "execution_count": 18,
   "metadata": {},
   "outputs": [
    {
     "data": {
      "text/plain": [
       "Hit(id='gi|1219041180|ref|XM_021875076.1|', query_id='BE037100.1', 1 hsps)"
      ]
     },
     "execution_count": 18,
     "metadata": {},
     "output_type": "execute_result"
    }
   ],
   "source": [
    "blast_qresult[0]"
   ]
  },
  {
   "cell_type": "code",
   "execution_count": 19,
   "metadata": {},
   "outputs": [
    {
     "data": {
      "text/plain": [
       "Hit(id='gi|1039849994|ref|XM_008339966.2|', query_id='BE037100.1', 1 hsps)"
      ]
     },
     "execution_count": 19,
     "metadata": {},
     "output_type": "execute_result"
    }
   ],
   "source": [
    "blast_qresult[-1]"
   ]
  },
  {
   "cell_type": "code",
   "execution_count": 21,
   "metadata": {},
   "outputs": [
    {
     "name": "stdout",
     "output_type": "stream",
     "text": [
      "Program: blastn (2.8.1+)\n",
      "  Query: BE037100.1 (1111)\n",
      "         MP14H09 MP Mesembryanthemum crystallinum cDNA 5' similar to cold ac...\n",
      " Target: nt\n",
      "   Hits: ----  -----  ----------------------------------------------------------\n",
      "            #  # HSP  ID + description\n",
      "         ----  -----  ----------------------------------------------------------\n",
      "            0      1  gi|1219041180|ref|XM_021875076.1|  PREDICTED: Chenopodi...\n",
      "            1      1  gi|1226796956|ref|XM_021992092.1|  PREDICTED: Spinacia ...\n",
      "            2      1  gi|731339628|ref|XM_010682658.1|  PREDICTED: Beta vulga...\n"
     ]
    }
   ],
   "source": [
    "blast_slice = blast_qresult[:3]\n",
    "print(blast_slice)"
   ]
  },
  {
   "cell_type": "code",
   "execution_count": 22,
   "metadata": {},
   "outputs": [
    {
     "data": {
      "text/plain": [
       "Hit(id='gi|1219041180|ref|XM_021875076.1|', query_id='BE037100.1', 1 hsps)"
      ]
     },
     "execution_count": 22,
     "metadata": {},
     "output_type": "execute_result"
    }
   ],
   "source": [
    "blast_qresult[\"gi|1219041180|ref|XM_021875076.1|\"]"
   ]
  },
  {
   "cell_type": "code",
   "execution_count": 23,
   "metadata": {},
   "outputs": [
    {
     "data": {
      "text/plain": [
       "True"
      ]
     },
     "execution_count": 23,
     "metadata": {},
     "output_type": "execute_result"
    }
   ],
   "source": [
    "\"gi|1219041180|ref|XM_021875076.1|\" in blast_qresult"
   ]
  },
  {
   "cell_type": "code",
   "execution_count": 24,
   "metadata": {},
   "outputs": [
    {
     "data": {
      "text/plain": [
       "False"
      ]
     },
     "execution_count": 24,
     "metadata": {},
     "output_type": "execute_result"
    }
   ],
   "source": [
    "\"gi|262205317|ref|NR_030195.1|\" in blast_qresult"
   ]
  },
  {
   "cell_type": "code",
   "execution_count": 26,
   "metadata": {},
   "outputs": [
    {
     "data": {
      "text/plain": [
       "22"
      ]
     },
     "execution_count": 26,
     "metadata": {},
     "output_type": "execute_result"
    }
   ],
   "source": [
    "blast_qresult.index(\"gi|1187397285|gb|KX009413.1|\")"
   ]
  },
  {
   "cell_type": "code",
   "execution_count": 27,
   "metadata": {},
   "outputs": [
    {
     "name": "stdout",
     "output_type": "stream",
     "text": [
      "gi|1219041180|ref|XM_021875076.1| 1173\n",
      "gi|1226796956|ref|XM_021992092.1| 672\n",
      "gi|731339628|ref|XM_010682658.1| 847\n",
      "gi|1389679838|ref|XM_016034586.2| 946\n",
      "gi|1098839281|ref|XM_018970776.1| 977\n"
     ]
    }
   ],
   "source": [
    "for hit in blast_qresult[:5]:\n",
    "    print(\"%s %i\" % (hit.id, hit.seq_len))"
   ]
  },
  {
   "cell_type": "code",
   "execution_count": 28,
   "metadata": {},
   "outputs": [
    {
     "name": "stdout",
     "output_type": "stream",
     "text": [
      "gi|1216963201|ref|XM_021822463.1| 1307\n",
      "gi|1344085131|ref|XM_024070874.1| 1178\n",
      "gi|1219041180|ref|XM_021875076.1| 1173\n",
      "gi|743838297|ref|XM_011027373.1| 1132\n",
      "gi|1375871125|ref|XM_024605027.1| 1130\n"
     ]
    }
   ],
   "source": [
    "sort_key = lambda hit: hit.seq_len\n",
    "sorted_qresult = blast_qresult.sort(key=sort_key, reverse=True, in_place=False)\n",
    "for hit in sorted_qresult[:5]:\n",
    "    print(\"%s %i\" % (hit.id, hit.seq_len))"
   ]
  },
  {
   "cell_type": "code",
   "execution_count": 32,
   "metadata": {},
   "outputs": [
    {
     "data": {
      "text/plain": [
       "50"
      ]
     },
     "execution_count": 32,
     "metadata": {},
     "output_type": "execute_result"
    }
   ],
   "source": [
    "filter_func = lambda hit: len(hit.hsps) >= 1 \n",
    "len(blast_qresult) "
   ]
  },
  {
   "cell_type": "code",
   "execution_count": 33,
   "metadata": {},
   "outputs": [
    {
     "data": {
      "text/plain": [
       "50"
      ]
     },
     "execution_count": 33,
     "metadata": {},
     "output_type": "execute_result"
    }
   ],
   "source": [
    "filtered_qresult = blast_qresult.hit_filter(filter_func)\n",
    "len(filtered_qresult)"
   ]
  },
  {
   "cell_type": "code",
   "execution_count": 34,
   "metadata": {},
   "outputs": [],
   "source": [
    "def map_func(hit):\n",
    "    hit.id = hit.id.split(\"|\")[3]   # renames \"gi|301171322|ref|NR_035857.1|\" to \"NR_035857.1\"\n",
    "    return hit"
   ]
  },
  {
   "cell_type": "code",
   "execution_count": 35,
   "metadata": {},
   "outputs": [
    {
     "name": "stdout",
     "output_type": "stream",
     "text": [
      "XM_021875076.1\n",
      "XM_021992092.1\n",
      "XM_010682658.1\n",
      "XM_016034586.2\n",
      "XM_018970776.1\n"
     ]
    }
   ],
   "source": [
    "mapped_qresult = blast_qresult.hit_map(map_func)\n",
    "for hit in mapped_qresult[:5]:\n",
    "    print(hit.id)"
   ]
  },
  {
   "cell_type": "code",
   "execution_count": 36,
   "metadata": {},
   "outputs": [
    {
     "name": "stdout",
     "output_type": "stream",
     "text": [
      "Query: BE037100.1\n",
      "       MP14H09 MP Mesembryanthemum crystallinum cDNA 5' similar to cold accl...\n",
      "  Hit: gi|1389679838|ref|XM_016034586.2| (946)\n",
      "       PREDICTED: Ziziphus jujuba cold-regulated 413 plasma membrane protein...\n",
      " HSPs: ----  --------  ---------  ------  ---------------  ---------------------\n",
      "          #   E-value  Bit score    Span      Query range              Hit range\n",
      "       ----  --------  ---------  ------  ---------------  ---------------------\n",
      "          0  1.1e-105     397.13     596         [62:655]              [169:756]\n"
     ]
    }
   ],
   "source": [
    "from Bio import SearchIO\n",
    "blast_qresult = SearchIO.read(\"my_blast.xml\", \"blast-xml\")\n",
    "blast_hit = blast_qresult[3]    # fourth hit from the query result\n",
    "print(blast_hit)"
   ]
  },
  {
   "cell_type": "code",
   "execution_count": 39,
   "metadata": {},
   "outputs": [
    {
     "name": "stdout",
     "output_type": "stream",
     "text": [
      "      Query: BE037100.1 MP14H09 MP Mesembryanthemum crystallinum cDNA 5' simi...\n",
      "        Hit: gi|1219041180|ref|XM_021875076.1| PREDICTED: Chenopodium quinoa ...\n",
      "Query range: [58:678] (1)\n",
      "  Hit range: [277:901] (1)\n",
      "Quick stats: evalue 1.2e-117; bitscore 435.90\n",
      "  Fragments: 1 (624 columns)\n",
      "     Query - ACAGAAAATGGGGAGAGAAATGAAGTACTTGGCCATGAAAACTGATCAATTGGCCGTGG~~~ATGTA\n",
      "             || ||||||||| |||| | |||| ||  |||| |||| | |||| ||| | |||| ||~~~|| ||\n",
      "       Hit - ACCGAAAATGGGCAGAGGAGTGAATTATATGGCAATGACACCTGAGCAACTAGCCGCGG~~~ATTTA\n"
     ]
    }
   ],
   "source": [
    "from Bio import SearchIO\n",
    "blast_qresult = SearchIO.read(\"my_blast.xml\", \"blast-xml\")\n",
    "blast_hsp = blast_qresult[0][0]    # first hit, first hsp\n",
    "print(blast_hsp)"
   ]
  },
  {
   "cell_type": "code",
   "execution_count": 40,
   "metadata": {},
   "outputs": [
    {
     "data": {
      "text/plain": [
       "(58, 678)"
      ]
     },
     "execution_count": 40,
     "metadata": {},
     "output_type": "execute_result"
    }
   ],
   "source": [
    "blast_hsp.query_range"
   ]
  },
  {
   "cell_type": "code",
   "execution_count": 41,
   "metadata": {},
   "outputs": [
    {
     "data": {
      "text/plain": [
       "1.23171e-117"
      ]
     },
     "execution_count": 41,
     "metadata": {},
     "output_type": "execute_result"
    }
   ],
   "source": [
    "blast_hsp.evalue"
   ]
  },
  {
   "cell_type": "code",
   "execution_count": 42,
   "metadata": {},
   "outputs": [
    {
     "data": {
      "text/plain": [
       "277"
      ]
     },
     "execution_count": 42,
     "metadata": {},
     "output_type": "execute_result"
    }
   ],
   "source": [
    "blast_hsp.hit_start"
   ]
  },
  {
   "cell_type": "code",
   "execution_count": 43,
   "metadata": {},
   "outputs": [
    {
     "data": {
      "text/plain": [
       "620"
      ]
     },
     "execution_count": 43,
     "metadata": {},
     "output_type": "execute_result"
    }
   ],
   "source": [
    "blast_hsp.query_span"
   ]
  },
  {
   "cell_type": "code",
   "execution_count": 44,
   "metadata": {},
   "outputs": [
    {
     "data": {
      "text/plain": [
       "624"
      ]
     },
     "execution_count": 44,
     "metadata": {},
     "output_type": "execute_result"
    }
   ],
   "source": [
    "blast_hsp.aln_span"
   ]
  },
  {
   "cell_type": "code",
   "execution_count": 45,
   "metadata": {},
   "outputs": [
    {
     "data": {
      "text/plain": [
       "4"
      ]
     },
     "execution_count": 45,
     "metadata": {},
     "output_type": "execute_result"
    }
   ],
   "source": [
    "blast_hsp.gap_num"
   ]
  },
  {
   "cell_type": "code",
   "execution_count": 46,
   "metadata": {},
   "outputs": [
    {
     "data": {
      "text/plain": [
       "473"
      ]
     },
     "execution_count": 46,
     "metadata": {},
     "output_type": "execute_result"
    }
   ],
   "source": [
    "blast_hsp.ident_num"
   ]
  },
  {
   "cell_type": "code",
   "execution_count": 47,
   "metadata": {},
   "outputs": [
    {
     "data": {
      "text/plain": [
       "dict_keys(['_items', 'bitscore', 'bitscore_raw', 'evalue', 'ident_num', 'pos_num', 'gap_num'])"
      ]
     },
     "execution_count": 47,
     "metadata": {},
     "output_type": "execute_result"
    }
   ],
   "source": [
    "blast_hsp.__dict__.keys()"
   ]
  },
  {
   "cell_type": "code",
   "execution_count": 48,
   "metadata": {},
   "outputs": [
    {
     "data": {
      "text/plain": [
       "SeqRecord(seq=Seq('ACAGAAAATGGGGAGAGAAATGAAGTACTTGGCCATGAAAACTGATCAATTGGC...GTA', DNAAlphabet()), id='BE037100.1', name='aligned query sequence', description=\"MP14H09 MP Mesembryanthemum crystallinum cDNA 5' similar to cold acclimation protein, mRNA sequence\", dbxrefs=[])"
      ]
     },
     "execution_count": 48,
     "metadata": {},
     "output_type": "execute_result"
    }
   ],
   "source": [
    "blast_hsp.query"
   ]
  },
  {
   "cell_type": "code",
   "execution_count": 49,
   "metadata": {},
   "outputs": [
    {
     "data": {
      "text/plain": [
       "SeqRecord(seq=Seq('ACCGAAAATGGGCAGAGGAGTGAATTATATGGCAATGACACCTGAGCAACTAGC...TTA', DNAAlphabet()), id='gi|1219041180|ref|XM_021875076.1|', name='aligned hit sequence', description='PREDICTED: Chenopodium quinoa cold-regulated 413 plasma membrane protein 2-like (LOC110697660), mRNA', dbxrefs=[])"
      ]
     },
     "execution_count": 49,
     "metadata": {},
     "output_type": "execute_result"
    }
   ],
   "source": [
    "blast_hsp.hit"
   ]
  },
  {
   "cell_type": "code",
   "execution_count": 148,
   "metadata": {
    "scrolled": false
   },
   "outputs": [
    {
     "name": "stdout",
     "output_type": "stream",
     "text": [
      "CCTAAAACGGCAGTTGAAATGAATGTAGTCGATAAAGTGATGGATCCAATAGATATTCCTTTAGAAATCATTAAATTCGCCAAAAAAATAGGGGGCTGATACCATGGACGATATGGAACAGTATAAAGAACTATTCATGACTGAAGCGGAAGAACATTTGCAATCATTAAATCAAAATATGGTTGAACTTGAAAACTGCCCTGAAGACTCTGAAAGAATTATTAACATGATATTCAGGTCTGCACACACGTTGAAAGGGTCAGCAAGAACACTAGGATTTGAACATATATCCTCATTAACCCACCATATGGAAGATATTTTGGACTACATCCGGGATGGAAAAATAAAAGTAAATCCTGAAATAGTTGATTTACTCTTCAAATGCCTCGATGCTCTTGAAAAAATGGTTTCCGAAGTTAGCGACGGGGAAGACACAACAAGTGTTGATGTGGATTCACTCGTTGAGGTAATTAAATCTGTTAAAGAGAAGGCGTGTGACTCACTATGTCACATCAGACAGACGTGTACAGCAGTACAGACGCAGCGCTAGCGCTACGTGATGACGTGAGTCGTCTCGTCTGACTATCGACTGTATGCGTCGTACGTACGTACGTACGTACGTACGTACGTACGTAGACGCTATCTTTCTGGAGAAAACTCTAAAGAAGATTCTTTAGATTGTAGTGACATTAATGAAGTTGCTAAAAAACAGGTTGAAGAAAAAACTGTTAACACAACTTCGTCCAATTCATGTTCTATCCATTTAGTAGATGAATCCGCAATCATACTTATCGAAGGAAATTCCAATAATTCAGTAGTTGAAAAACCTGAAAATTTAGACAGTGTTTTAAATCAAATGCATGAATCAGCTTCCGCACTCCTAACAATCCTTGATGCCCTCGAATACAGTGAATTAAAAGATACTGTAAAAAATATCGATGAACTTTCAACCGCAATGCTAAATGAAACTGTTGAAATAACTGAAAATTCACTTTCGGTTTTAAAATCAGCACTTTCAACAATGCAGCAGATTGCAAAGGTAGTTGAAACAGGATCCAGTGCTAAATACGACTATTCAGAATTAAATGAAAAAATTTCATTGACATTATCAGAAACTGTTGGCGAATCAGTAGAAGATAAAGAAATCATTCTGGATCATACTATATTCAATTTAGAAGAAGTTTCCGAAGAATTAATTTCTGAAATAAATGAAAATAAAAAAATTTACCATATAAAATCAAAAGTTGTTGAAGACTGCATGTTAAAAGCAGTTCGATTAACAATGGTTCTTTCTAAATTAAAAGAAATTGGAACCATAATATCATCAGTTCCTACAGAAGAAAACCTTTTATCAAGCGGTTCTGGAGAGCTGGATGTTTTAATTTCAACTGATTTGGATAATATAGATATTTTAGATTCAGTATGTGAAATGGAATATGTAGTATCCAAAGAAGTCAGATTTGAACTTGAAACAGTAGTAACTCAAGTTTTTGATGAAGAAGTCCCCAAAACAGAAAAAAGTTTGGAAACACCTGCAAAATTCAAAATTAATATTAAAATAGACGAAGAATGCCTATTAAAAGCCGTTAGAGCATACATGGTTATTAAAGATTTGAAAGAAAAAGGAAATGTTTTGGAAACCGAACCTCCTGAAGAAAAAATACAGGAAGGAAATCTCGGCGGAAACACAGTTACAATTTATTACGATAGCGATGAATCAGAAGATGATATAAAAGAAATAATCTCAAAAACTCCCGAAATAACAGAATTTTTGGTAAATGTTCAAAAAGATACCGATAATTCAAAGGATAGTGCAAAAATTAAAAATACGGCAGATACTACTTCAAAAAAACAGACCGAAAATTCTTCATCTAAAAAGTCGCAGACTGTAAGAGTAAACATTGAAAAACTCGATAAATTGATGAATTTAGTTGGTGAGGTTGTAATAAACCGAGCAAACTTTACCCAAATTGCTACAAAATACGATTTAAAAGAGCTCCATAATGCAGTTGGAAGACTCAACATGCTTGCAACAGAACTTCAGGAAGAAGTAATGGGTATGAGGATGATCCCTGTTGCATTTGTATTCAATAGATTCCCAAGAACCGTAAGAGATACTGCAAAAGCTCTTGACAAAGAAATTGATTTTGAAATAGAAGGTTCAGATATTGAACTGGATAGAACTGTTCTCGACGAACTTGCAGAGCCTTTAACTCACCTGATTAGAAATTCTCTCGATCACGGTATTGAGCATGCAGATGAAAGAATAAAATTGGGAAAACCCGAAAAAGGAATTTTAAAATTAATTGCAACAAGACAGCGAGATAGAGTAAATATTATAATTAGGGATGACGGTAAGGGAATAGACCCTGATGCTATGCGTAAAAAAGCATTTGAAAAAGGACTCTATTCAAAAGAAGAAGCTGAAAAATTAACCGATAACGAAGCTGTTAATGTTATCTTCCTTCCAGGATTCAGTACCGCGGAAGTTGTATCCGACGTTTCCGGACGTGGCGTAGGAATGGACGTTGTAAGGTCAAAAATTGAATCACTTGGGGGTAGCGTTACAGTAAATTCCGAAGTTGGAAAAGGTACAGAAATAACCCTGCATCTTCCATTAACAATGGCAATCATACAGACGTTATTAATCCGTCTAAATGAGCATATCTATGCACTGCCATTAACGAGCGTTTTAGATGTTATCTCAGTTCAAAAAGAAGAGATTAAAAATTTAGAAGGGCAGGAAGCAATAATTTACAGAAACCATATCTTACCAGTAATCTGGCTGAAAGATGCATTGAATACATCAGGATTTTCCGATTCTAACGACCTCTATGTTGTAGTTGTCGAGAAAAATAAAGGAAAAGTTGGAATGATCCTTGATGAAGTTATTGGAAGGGATGAAATAGTTGTAAAACCACTCACAGGAATACTTAAAAATATTAATGGACTTGCTGGAGCTACAATATTAGGGGATGGTCGCGTAGCGTTGATATTAGATTTAAACAACATTTAGGACGATTAGCATGGTTTTAAAAGTAAAAATGGGGG 3051\n"
     ]
    }
   ],
   "source": [
    "from Bio import SeqIO\n",
    "from Bio.Seq import Seq\n",
    "record = SeqIO.read(\"execi.fa\", \"fasta\")\n",
    "print(record.seq, len(record.seq))\n",
    "\n",
    "from Bio.Blast import NCBIWWW\n",
    "##result_handle = NCBIWWW.qblast(\"blastn\", \"nt\", \"8332116\")\n",
    "result_handle = NCBIWWW.qblast(database=\"nt\", program=\"blastn\", sequence=record.seq)\n",
    "with open(\"gene.xml\", \"w\") as out_handle:\n",
    "    out_handle.write(result_handle.read())\n",
    "result_handle.close()"
   ]
  },
  {
   "cell_type": "code",
   "execution_count": 151,
   "metadata": {},
   "outputs": [
    {
     "name": "stdout",
     "output_type": "stream",
     "text": [
      "      Query: No definition line\n",
      "        Hit: gi|339903450|gb|CP002913.1| Methanococcus maripaludis X1, comple...\n",
      "Query range: [640:3051] (1)\n",
      "  Hit range: [990589:993000] (1)\n",
      "Quick stats: evalue 0; bitscore 4349.21\n",
      "  Fragments: 1 (2411 columns)\n",
      "     Query - TATCTTTCTGGAGAAAACTCTAAAGAAGATTCTTTAGATTGTAGTGACATTAATGAAGT~~~GGGGG\n",
      "             |||||||||||||||||||||||||||||||||||||||||||||||||||||||||||~~~|||||\n",
      "       Hit - TATCTTTCTGGAGAAAACTCTAAAGAAGATTCTTTAGATTGTAGTGACATTAATGAAGT~~~GGGGG\n",
      "      Query: No definition line\n",
      "        Hit: gi|339903450|gb|CP002913.1| Methanococcus maripaludis X1, comple...\n",
      "Query range: [0:490] (1)\n",
      "  Hit range: [990099:990589] (1)\n",
      "Quick stats: evalue 0; bitscore 884.94\n",
      "  Fragments: 1 (490 columns)\n",
      "     Query - CCTAAAACGGCAGTTGAAATGAATGTAGTCGATAAAGTGATGGATCCAATAGATATTCC~~~AGAAG\n",
      "             |||||||||||||||||||||||||||||||||||||||||||||||||||||||||||~~~|||||\n",
      "       Hit - CCTAAAACGGCAGTTGAAATGAATGTAGTCGATAAAGTGATGGATCCAATAGATATTCC~~~AGAAG\n"
     ]
    }
   ],
   "source": [
    "from Bio import SearchIO\n",
    "blast_qresult = SearchIO.read(\"gene.xml\", \"blast-xml\")\n",
    "\n",
    "for hsp in blast_qresult[0]:\n",
    "    print(hsp)"
   ]
  },
  {
   "cell_type": "code",
   "execution_count": 152,
   "metadata": {},
   "outputs": [
    {
     "name": "stdout",
     "output_type": "stream",
     "text": [
      "GCGTGTGACTCACTATGTCACATCAGACAGACGTGTACAGCAGTACAGACGCAGCGCTAGCGCTACGTGATGACGTGAGTCGTCTCGTCTGACTATCGACTGTATGCGTCGTACGTACGTACGTACGTACGTACGTACGTACGTAGACGC 150\n"
     ]
    }
   ],
   "source": [
    "insertion = record.seq[490:640]\n",
    "print(insertion, str(len(insertion)))"
   ]
  },
  {
   "cell_type": "code",
   "execution_count": 154,
   "metadata": {},
   "outputs": [],
   "source": [
    "with open(\"dna_message.dna\", \"w\") as out_handle:\n",
    "    out_handle.write(str(insertion))"
   ]
  },
  {
   "cell_type": "code",
   "execution_count": 155,
   "metadata": {},
   "outputs": [
    {
     "name": "stdout",
     "output_type": "stream",
     "text": [
      "Olá mundo lindo!!??O\n"
     ]
    }
   ],
   "source": [
    "%%bash\n",
    "python2.7 /home/osvaldoreis/miniconda3/lib/python3.6/site-packages/dna/dna.py -d dna_message.dna\n",
    "cat dna_message.decoded"
   ]
  },
  {
   "cell_type": "code",
   "execution_count": 116,
   "metadata": {},
   "outputs": [
    {
     "data": {
      "application/json": {
       "cell": {
        "!": "OSMagics",
        "HTML": "Other",
        "SVG": "Other",
        "bash": "Other",
        "capture": "ExecutionMagics",
        "debug": "ExecutionMagics",
        "file": "Other",
        "html": "DisplayMagics",
        "javascript": "DisplayMagics",
        "js": "DisplayMagics",
        "latex": "DisplayMagics",
        "markdown": "DisplayMagics",
        "perl": "Other",
        "prun": "ExecutionMagics",
        "pypy": "Other",
        "python": "Other",
        "python2": "Other",
        "python3": "Other",
        "ruby": "Other",
        "script": "ScriptMagics",
        "sh": "Other",
        "svg": "DisplayMagics",
        "sx": "OSMagics",
        "system": "OSMagics",
        "time": "ExecutionMagics",
        "timeit": "ExecutionMagics",
        "writefile": "OSMagics"
       },
       "line": {
        "alias": "OSMagics",
        "alias_magic": "BasicMagics",
        "autocall": "AutoMagics",
        "automagic": "AutoMagics",
        "autosave": "KernelMagics",
        "bookmark": "OSMagics",
        "cat": "Other",
        "cd": "OSMagics",
        "clear": "KernelMagics",
        "colors": "BasicMagics",
        "config": "ConfigMagics",
        "connect_info": "KernelMagics",
        "cp": "Other",
        "debug": "ExecutionMagics",
        "dhist": "OSMagics",
        "dirs": "OSMagics",
        "doctest_mode": "BasicMagics",
        "ed": "Other",
        "edit": "KernelMagics",
        "env": "OSMagics",
        "gui": "BasicMagics",
        "hist": "Other",
        "history": "HistoryMagics",
        "killbgscripts": "ScriptMagics",
        "ldir": "Other",
        "less": "KernelMagics",
        "lf": "Other",
        "lk": "Other",
        "ll": "Other",
        "load": "CodeMagics",
        "load_ext": "ExtensionMagics",
        "loadpy": "CodeMagics",
        "logoff": "LoggingMagics",
        "logon": "LoggingMagics",
        "logstart": "LoggingMagics",
        "logstate": "LoggingMagics",
        "logstop": "LoggingMagics",
        "ls": "Other",
        "lsmagic": "BasicMagics",
        "lx": "Other",
        "macro": "ExecutionMagics",
        "magic": "BasicMagics",
        "man": "KernelMagics",
        "matplotlib": "PylabMagics",
        "mkdir": "Other",
        "more": "KernelMagics",
        "mv": "Other",
        "notebook": "BasicMagics",
        "page": "BasicMagics",
        "pastebin": "CodeMagics",
        "pdb": "ExecutionMagics",
        "pdef": "NamespaceMagics",
        "pdoc": "NamespaceMagics",
        "pfile": "NamespaceMagics",
        "pinfo": "NamespaceMagics",
        "pinfo2": "NamespaceMagics",
        "pip": "BasicMagics",
        "popd": "OSMagics",
        "pprint": "BasicMagics",
        "precision": "BasicMagics",
        "profile": "BasicMagics",
        "prun": "ExecutionMagics",
        "psearch": "NamespaceMagics",
        "psource": "NamespaceMagics",
        "pushd": "OSMagics",
        "pwd": "OSMagics",
        "pycat": "OSMagics",
        "pylab": "PylabMagics",
        "qtconsole": "KernelMagics",
        "quickref": "BasicMagics",
        "recall": "HistoryMagics",
        "rehashx": "OSMagics",
        "reload_ext": "ExtensionMagics",
        "rep": "Other",
        "rerun": "HistoryMagics",
        "reset": "NamespaceMagics",
        "reset_selective": "NamespaceMagics",
        "rm": "Other",
        "rmdir": "Other",
        "run": "ExecutionMagics",
        "save": "CodeMagics",
        "sc": "OSMagics",
        "set_env": "OSMagics",
        "store": "StoreMagics",
        "sx": "OSMagics",
        "system": "OSMagics",
        "tb": "ExecutionMagics",
        "time": "ExecutionMagics",
        "timeit": "ExecutionMagics",
        "unalias": "OSMagics",
        "unload_ext": "ExtensionMagics",
        "who": "NamespaceMagics",
        "who_ls": "NamespaceMagics",
        "whos": "NamespaceMagics",
        "xdel": "NamespaceMagics",
        "xmode": "BasicMagics"
       }
      },
      "text/plain": [
       "Available line magics:\n",
       "%alias  %alias_magic  %autocall  %automagic  %autosave  %bookmark  %cat  %cd  %clear  %colors  %config  %connect_info  %cp  %debug  %dhist  %dirs  %doctest_mode  %ed  %edit  %env  %gui  %hist  %history  %killbgscripts  %ldir  %less  %lf  %lk  %ll  %load  %load_ext  %loadpy  %logoff  %logon  %logstart  %logstate  %logstop  %ls  %lsmagic  %lx  %macro  %magic  %man  %matplotlib  %mkdir  %more  %mv  %notebook  %page  %pastebin  %pdb  %pdef  %pdoc  %pfile  %pinfo  %pinfo2  %popd  %pprint  %precision  %profile  %prun  %psearch  %psource  %pushd  %pwd  %pycat  %pylab  %qtconsole  %quickref  %recall  %rehashx  %reload_ext  %rep  %rerun  %reset  %reset_selective  %rm  %rmdir  %run  %save  %sc  %set_env  %store  %sx  %system  %tb  %time  %timeit  %unalias  %unload_ext  %who  %who_ls  %whos  %xdel  %xmode\n",
       "\n",
       "Available cell magics:\n",
       "%%!  %%HTML  %%SVG  %%bash  %%capture  %%debug  %%file  %%html  %%javascript  %%js  %%latex  %%markdown  %%perl  %%prun  %%pypy  %%python  %%python2  %%python3  %%ruby  %%script  %%sh  %%svg  %%sx  %%system  %%time  %%timeit  %%writefile\n",
       "\n",
       "Automagic is ON, % prefix IS NOT needed for line magics."
      ]
     },
     "execution_count": 116,
     "metadata": {},
     "output_type": "execute_result"
    }
   ],
   "source": [
    "%lsmagic"
   ]
  },
  {
   "cell_type": "code",
   "execution_count": null,
   "metadata": {},
   "outputs": [],
   "source": []
  }
 ],
 "metadata": {
  "kernelspec": {
   "display_name": "Python 3",
   "language": "python",
   "name": "python3"
  },
  "language_info": {
   "codemirror_mode": {
    "name": "ipython",
    "version": 3
   },
   "file_extension": ".py",
   "mimetype": "text/x-python",
   "name": "python",
   "nbconvert_exporter": "python",
   "pygments_lexer": "ipython3",
   "version": "3.6.7"
  }
 },
 "nbformat": 4,
 "nbformat_minor": 2
}
